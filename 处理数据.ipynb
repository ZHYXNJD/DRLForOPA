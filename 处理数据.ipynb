{
 "cells": [
  {
   "cell_type": "code",
   "execution_count": 1,
   "outputs": [],
   "source": [
    "import pandas as pd\n",
    "import numpy as np"
   ],
   "metadata": {
    "collapsed": false,
    "pycharm": {
     "name": "#%%\n"
    }
   }
  },
  {
   "cell_type": "markdown",
   "source": [
    "# 将原始数据处理成DRL所需的额外的数据"
   ],
   "metadata": {
    "collapsed": false,
    "pycharm": {
     "name": "#%% md\n"
    }
   }
  },
  {
   "cell_type": "markdown",
   "source": [
    "## 1. 提前每个请求的收益(list) 2. 需求类型（list） 3. 停车场和充电桩索引（list）"
   ],
   "metadata": {
    "collapsed": false,
    "pycharm": {
     "name": "#%% md\n"
    }
   }
  },
  {
   "cell_type": "code",
   "execution_count": 3,
   "outputs": [
    {
     "data": {
      "text/plain": "      Unnamed: 0                req_t             depart_t  travel_t  \\\n0              0  2022-02-16 22:53:44  2022-02-16 23:08:44        66   \n1              1  2022-02-16 23:04:38  2022-02-16 23:19:38       104   \n2              2  2022-02-16 23:22:00  2022-02-16 23:37:00        52   \n3              3  2022-02-16 23:24:00  2022-02-16 23:39:00        52   \n4              4  2022-02-16 23:29:11  2022-02-16 23:44:11        17   \n...          ...                  ...                  ...       ...   \n2115        2115  2022-02-17 23:07:35  2022-02-17 23:22:35        14   \n2116        2116  2022-02-17 23:10:34  2022-02-17 23:25:34        25   \n2117        2117  2022-02-17 23:13:56  2022-02-17 23:28:56        26   \n2118        2118  2022-02-17 23:15:00  2022-02-17 23:30:00        18   \n2119        2119  2022-02-17 23:28:47  2022-02-17 23:43:47         4   \n\n                    arr_t    parking_t                lea_t  charge_label  \\\n0     2022-02-17 00:14:44  1398.333333  2022-02-18 23:33:04             0   \n1     2022-02-17 01:03:38   169.733333  2022-02-18 03:53:22             0   \n2     2022-02-17 00:29:00          NaN  2022-02-17 01:00:00             1   \n3     2022-02-17 00:31:00          NaN  2022-02-17 01:07:00             1   \n4     2022-02-17 00:01:11   470.700000  2022-02-17 07:51:53             0   \n...                   ...          ...                  ...           ...   \n2115  2022-02-17 23:36:35   605.766667  2022-02-18 09:42:21             0   \n2116  2022-02-17 23:50:34     3.066667  2022-02-17 23:53:38             0   \n2117  2022-02-17 23:54:56  1215.216667  2022-02-18 20:10:09             0   \n2118  2022-02-17 23:48:00          NaN  2022-02-18 00:22:00             1   \n2119  2022-02-17 23:47:47   802.883333  2022-02-18 13:10:40             0   \n\n      char_t  req_interval  depart_interval  lea_interval  arr_interval  dest  \\\n0        NaN             0                1           194             5     2   \n1        NaN             0                1           115             8     2   \n2       31.0             1                2             8             6     3   \n3       36.0             2                3             8             6     3   \n4        NaN             2                3            35             4     2   \n...      ...           ...              ...           ...           ...   ...   \n2115     NaN            96               97           139            98     3   \n2116     NaN            97               98            99            99     1   \n2117     NaN            97               98           181           100     2   \n2118    34.0            97               98           101            99     2   \n2119     NaN            98               99           153            99     3   \n\n      waiting_time  time_label  \n0        15.000000         3.0  \n1         4.100000         1.0  \n2         1.733333         NaN  \n3        14.733333         NaN  \n4         9.550000         2.0  \n...            ...         ...  \n2115      1.150000         3.0  \n2116     13.166667         0.0  \n2117      9.800000         3.0  \n2118      8.733333         NaN  \n2119      9.950000         3.0  \n\n[2120 rows x 16 columns]",
      "text/html": "<div>\n<style scoped>\n    .dataframe tbody tr th:only-of-type {\n        vertical-align: middle;\n    }\n\n    .dataframe tbody tr th {\n        vertical-align: top;\n    }\n\n    .dataframe thead th {\n        text-align: right;\n    }\n</style>\n<table border=\"1\" class=\"dataframe\">\n  <thead>\n    <tr style=\"text-align: right;\">\n      <th></th>\n      <th>Unnamed: 0</th>\n      <th>req_t</th>\n      <th>depart_t</th>\n      <th>travel_t</th>\n      <th>arr_t</th>\n      <th>parking_t</th>\n      <th>lea_t</th>\n      <th>charge_label</th>\n      <th>char_t</th>\n      <th>req_interval</th>\n      <th>depart_interval</th>\n      <th>lea_interval</th>\n      <th>arr_interval</th>\n      <th>dest</th>\n      <th>waiting_time</th>\n      <th>time_label</th>\n    </tr>\n  </thead>\n  <tbody>\n    <tr>\n      <th>0</th>\n      <td>0</td>\n      <td>2022-02-16 22:53:44</td>\n      <td>2022-02-16 23:08:44</td>\n      <td>66</td>\n      <td>2022-02-17 00:14:44</td>\n      <td>1398.333333</td>\n      <td>2022-02-18 23:33:04</td>\n      <td>0</td>\n      <td>NaN</td>\n      <td>0</td>\n      <td>1</td>\n      <td>194</td>\n      <td>5</td>\n      <td>2</td>\n      <td>15.000000</td>\n      <td>3.0</td>\n    </tr>\n    <tr>\n      <th>1</th>\n      <td>1</td>\n      <td>2022-02-16 23:04:38</td>\n      <td>2022-02-16 23:19:38</td>\n      <td>104</td>\n      <td>2022-02-17 01:03:38</td>\n      <td>169.733333</td>\n      <td>2022-02-18 03:53:22</td>\n      <td>0</td>\n      <td>NaN</td>\n      <td>0</td>\n      <td>1</td>\n      <td>115</td>\n      <td>8</td>\n      <td>2</td>\n      <td>4.100000</td>\n      <td>1.0</td>\n    </tr>\n    <tr>\n      <th>2</th>\n      <td>2</td>\n      <td>2022-02-16 23:22:00</td>\n      <td>2022-02-16 23:37:00</td>\n      <td>52</td>\n      <td>2022-02-17 00:29:00</td>\n      <td>NaN</td>\n      <td>2022-02-17 01:00:00</td>\n      <td>1</td>\n      <td>31.0</td>\n      <td>1</td>\n      <td>2</td>\n      <td>8</td>\n      <td>6</td>\n      <td>3</td>\n      <td>1.733333</td>\n      <td>NaN</td>\n    </tr>\n    <tr>\n      <th>3</th>\n      <td>3</td>\n      <td>2022-02-16 23:24:00</td>\n      <td>2022-02-16 23:39:00</td>\n      <td>52</td>\n      <td>2022-02-17 00:31:00</td>\n      <td>NaN</td>\n      <td>2022-02-17 01:07:00</td>\n      <td>1</td>\n      <td>36.0</td>\n      <td>2</td>\n      <td>3</td>\n      <td>8</td>\n      <td>6</td>\n      <td>3</td>\n      <td>14.733333</td>\n      <td>NaN</td>\n    </tr>\n    <tr>\n      <th>4</th>\n      <td>4</td>\n      <td>2022-02-16 23:29:11</td>\n      <td>2022-02-16 23:44:11</td>\n      <td>17</td>\n      <td>2022-02-17 00:01:11</td>\n      <td>470.700000</td>\n      <td>2022-02-17 07:51:53</td>\n      <td>0</td>\n      <td>NaN</td>\n      <td>2</td>\n      <td>3</td>\n      <td>35</td>\n      <td>4</td>\n      <td>2</td>\n      <td>9.550000</td>\n      <td>2.0</td>\n    </tr>\n    <tr>\n      <th>...</th>\n      <td>...</td>\n      <td>...</td>\n      <td>...</td>\n      <td>...</td>\n      <td>...</td>\n      <td>...</td>\n      <td>...</td>\n      <td>...</td>\n      <td>...</td>\n      <td>...</td>\n      <td>...</td>\n      <td>...</td>\n      <td>...</td>\n      <td>...</td>\n      <td>...</td>\n      <td>...</td>\n    </tr>\n    <tr>\n      <th>2115</th>\n      <td>2115</td>\n      <td>2022-02-17 23:07:35</td>\n      <td>2022-02-17 23:22:35</td>\n      <td>14</td>\n      <td>2022-02-17 23:36:35</td>\n      <td>605.766667</td>\n      <td>2022-02-18 09:42:21</td>\n      <td>0</td>\n      <td>NaN</td>\n      <td>96</td>\n      <td>97</td>\n      <td>139</td>\n      <td>98</td>\n      <td>3</td>\n      <td>1.150000</td>\n      <td>3.0</td>\n    </tr>\n    <tr>\n      <th>2116</th>\n      <td>2116</td>\n      <td>2022-02-17 23:10:34</td>\n      <td>2022-02-17 23:25:34</td>\n      <td>25</td>\n      <td>2022-02-17 23:50:34</td>\n      <td>3.066667</td>\n      <td>2022-02-17 23:53:38</td>\n      <td>0</td>\n      <td>NaN</td>\n      <td>97</td>\n      <td>98</td>\n      <td>99</td>\n      <td>99</td>\n      <td>1</td>\n      <td>13.166667</td>\n      <td>0.0</td>\n    </tr>\n    <tr>\n      <th>2117</th>\n      <td>2117</td>\n      <td>2022-02-17 23:13:56</td>\n      <td>2022-02-17 23:28:56</td>\n      <td>26</td>\n      <td>2022-02-17 23:54:56</td>\n      <td>1215.216667</td>\n      <td>2022-02-18 20:10:09</td>\n      <td>0</td>\n      <td>NaN</td>\n      <td>97</td>\n      <td>98</td>\n      <td>181</td>\n      <td>100</td>\n      <td>2</td>\n      <td>9.800000</td>\n      <td>3.0</td>\n    </tr>\n    <tr>\n      <th>2118</th>\n      <td>2118</td>\n      <td>2022-02-17 23:15:00</td>\n      <td>2022-02-17 23:30:00</td>\n      <td>18</td>\n      <td>2022-02-17 23:48:00</td>\n      <td>NaN</td>\n      <td>2022-02-18 00:22:00</td>\n      <td>1</td>\n      <td>34.0</td>\n      <td>97</td>\n      <td>98</td>\n      <td>101</td>\n      <td>99</td>\n      <td>2</td>\n      <td>8.733333</td>\n      <td>NaN</td>\n    </tr>\n    <tr>\n      <th>2119</th>\n      <td>2119</td>\n      <td>2022-02-17 23:28:47</td>\n      <td>2022-02-17 23:43:47</td>\n      <td>4</td>\n      <td>2022-02-17 23:47:47</td>\n      <td>802.883333</td>\n      <td>2022-02-18 13:10:40</td>\n      <td>0</td>\n      <td>NaN</td>\n      <td>98</td>\n      <td>99</td>\n      <td>153</td>\n      <td>99</td>\n      <td>3</td>\n      <td>9.950000</td>\n      <td>3.0</td>\n    </tr>\n  </tbody>\n</table>\n<p>2120 rows × 16 columns</p>\n</div>"
     },
     "execution_count": 3,
     "metadata": {},
     "output_type": "execute_result"
    }
   ],
   "source": [
    "# 处理收益数据\n",
    "req_info = pd.read_csv(r\"G:\\停车数据\\原始数据备份\\11月份处理\\1206-全部信息.csv\")\n",
    "req_info"
   ],
   "metadata": {
    "collapsed": false,
    "pycharm": {
     "name": "#%%\n"
    }
   }
  },
  {
   "cell_type": "code",
   "execution_count": 4,
   "outputs": [
    {
     "data": {
      "text/plain": "0       1398.333333\n1        169.733333\n2         31.000000\n3         36.000000\n4        470.700000\n           ...     \n2115     605.766667\n2116       3.066667\n2117    1215.216667\n2118      34.000000\n2119     802.883333\nLength: 2120, dtype: float64"
     },
     "execution_count": 4,
     "metadata": {},
     "output_type": "execute_result"
    }
   ],
   "source": [
    "parking_rev = req_info['parking_t'].fillna(0)\n",
    "charge_rev = req_info['char_t'].fillna(0)\n",
    "rev = parking_rev + charge_rev"
   ],
   "metadata": {
    "collapsed": false,
    "pycharm": {
     "name": "#%%\n"
    }
   }
  },
  {
   "cell_type": "code",
   "execution_count": 9,
   "outputs": [],
   "source": [
    "revenue = np.array(rev.values,dtype=int)"
   ],
   "metadata": {
    "collapsed": false,
    "pycharm": {
     "name": "#%%\n"
    }
   }
  },
  {
   "cell_type": "code",
   "execution_count": 10,
   "outputs": [
    {
     "data": {
      "text/plain": "[1398,\n 169,\n 31,\n 36,\n 470,\n 903,\n 1204,\n 31,\n 37,\n 29,\n 1151,\n 42,\n 4,\n 908,\n 1361,\n 36,\n 33,\n 40,\n 7,\n 35,\n 534,\n 84,\n 688,\n 140,\n 515,\n 605,\n 930,\n 41,\n 725,\n 35,\n 755,\n 33,\n 1265,\n 36,\n 3,\n 36,\n 35,\n 37,\n 584,\n 150,\n 573,\n 31,\n 40,\n 29,\n 376,\n 131,\n 34,\n 1382,\n 459,\n 388,\n 136,\n 5,\n 3,\n 36,\n 39,\n 36,\n 31,\n 27,\n 39,\n 1397,\n 38,\n 857,\n 75,\n 1307,\n 109,\n 915,\n 741,\n 221,\n 41,\n 3,\n 44,\n 34,\n 26,\n 30,\n 794,\n 37,\n 49,\n 35,\n 30,\n 32,\n 21,\n 20,\n 32,\n 30,\n 41,\n 95,\n 586,\n 18,\n 68,\n 373,\n 248,\n 605,\n 798,\n 10,\n 31,\n 48,\n 8,\n 76,\n 490,\n 242,\n 581,\n 30,\n 32,\n 680,\n 269,\n 120,\n 132,\n 66,\n 29,\n 482,\n 432,\n 578,\n 480,\n 386,\n 85,\n 793,\n 29,\n 13,\n 494,\n 147,\n 404,\n 31,\n 947,\n 296,\n 439,\n 529,\n 12,\n 609,\n 486,\n 738,\n 289,\n 541,\n 328,\n 647,\n 3,\n 434,\n 726,\n 714,\n 407,\n 198,\n 264,\n 549,\n 229,\n 491,\n 516,\n 613,\n 33,\n 230,\n 617,\n 1423,\n 890,\n 5,\n 468,\n 645,\n 1250,\n 31,\n 447,\n 570,\n 511,\n 773,\n 551,\n 306,\n 565,\n 1419,\n 363,\n 143,\n 35,\n 191,\n 5,\n 22,\n 431,\n 1438,\n 867,\n 430,\n 551,\n 647,\n 627,\n 629,\n 550,\n 735,\n 3,\n 566,\n 807,\n 489,\n 570,\n 222,\n 626,\n 165,\n 78,\n 135,\n 10,\n 606,\n 724,\n 704,\n 1257,\n 554,\n 599,\n 585,\n 25,\n 665,\n 9,\n 460,\n 615,\n 561,\n 444,\n 638,\n 584,\n 135,\n 571,\n 53,\n 547,\n 262,\n 594,\n 543,\n 588,\n 1374,\n 422,\n 822,\n 595,\n 37,\n 600,\n 1323,\n 510,\n 534,\n 595,\n 745,\n 590,\n 830,\n 727,\n 729,\n 561,\n 445,\n 1421,\n 515,\n 550,\n 593,\n 709,\n 573,\n 614,\n 685,\n 104,\n 608,\n 1407,\n 30,\n 34,\n 550,\n 590,\n 6,\n 348,\n 192,\n 319,\n 101,\n 69,\n 775,\n 589,\n 96,\n 143,\n 455,\n 65,\n 401,\n 569,\n 476,\n 153,\n 48,\n 606,\n 717,\n 9,\n 613,\n 776,\n 417,\n 575,\n 49,\n 552,\n 44,\n 329,\n 572,\n 566,\n 251,\n 704,\n 226,\n 307,\n 63,\n 577,\n 644,\n 751,\n 624,\n 218,\n 327,\n 564,\n 494,\n 604,\n 559,\n 586,\n 587,\n 390,\n 561,\n 492,\n 806,\n 515,\n 34,\n 587,\n 586,\n 582,\n 87,\n 672,\n 393,\n 140,\n 519,\n 348,\n 530,\n 295,\n 435,\n 666,\n 463,\n 78,\n 361,\n 567,\n 493,\n 663,\n 545,\n 200,\n 106,\n 609,\n 733,\n 566,\n 30,\n 142,\n 680,\n 558,\n 540,\n 270,\n 546,\n 408,\n 36,\n 795,\n 634,\n 325,\n 584,\n 7,\n 520,\n 587,\n 577,\n 860,\n 579,\n 618,\n 755,\n 574,\n 598,\n 609,\n 551,\n 50,\n 1426,\n 600,\n 44,\n 615,\n 557,\n 38,\n 90,\n 767,\n 174,\n 226,\n 868,\n 548,\n 675,\n 49,\n 135,\n 387,\n 464,\n 348,\n 326,\n 50,\n 586,\n 38,\n 45,\n 647,\n 504,\n 497,\n 585,\n 515,\n 1430,\n 515,\n 566,\n 558,\n 610,\n 6,\n 467,\n 380,\n 499,\n 483,\n 530,\n 116,\n 819,\n 39,\n 168,\n 508,\n 127,\n 185,\n 102,\n 626,\n 341,\n 468,\n 441,\n 334,\n 25,\n 553,\n 8,\n 135,\n 451,\n 614,\n 686,\n 667,\n 113,\n 42,\n 756,\n 202,\n 76,\n 541,\n 534,\n 542,\n 518,\n 321,\n 29,\n 507,\n 707,\n 132,\n 495,\n 556,\n 761,\n 567,\n 687,\n 35,\n 550,\n 449,\n 585,\n 202,\n 259,\n 149,\n 556,\n 592,\n 171,\n 329,\n 1363,\n 526,\n 548,\n 1398,\n 530,\n 741,\n 534,\n 461,\n 3,\n 254,\n 539,\n 618,\n 176,\n 808,\n 288,\n 548,\n 5,\n 1439,\n 722,\n 182,\n 254,\n 720,\n 669,\n 756,\n 175,\n 472,\n 160,\n 60,\n 17,\n 385,\n 329,\n 346,\n 177,\n 760,\n 666,\n 456,\n 24,\n 298,\n 733,\n 555,\n 24,\n 377,\n 539,\n 276,\n 815,\n 683,\n 630,\n 561,\n 286,\n 573,\n 198,\n 499,\n 223,\n 252,\n 369,\n 4,\n 409,\n 582,\n 412,\n 152,\n 28,\n 297,\n 682,\n 737,\n 537,\n 313,\n 565,\n 41,\n 135,\n 512,\n 1421,\n 531,\n 463,\n 434,\n 479,\n 366,\n 403,\n 564,\n 119,\n 74,\n 199,\n 457,\n 460,\n 702,\n 262,\n 20,\n 551,\n 487,\n 157,\n 489,\n 313,\n 14,\n 3,\n 101,\n 548,\n 660,\n 16,\n 542,\n 1347,\n 10,\n 442,\n 401,\n 681,\n 365,\n 546,\n 629,\n 592,\n 379,\n 88,\n 5,\n 16,\n 879,\n 11,\n 555,\n 492,\n 479,\n 6,\n 526,\n 595,\n 180,\n 25,\n 1436,\n 505,\n 38,\n 617,\n 720,\n 319,\n 60,\n 286,\n 633,\n 545,\n 309,\n 10,\n 455,\n 460,\n 154,\n 521,\n 549,\n 72,\n 680,\n 103,\n 1421,\n 698,\n 19,\n 3,\n 507,\n 518,\n 736,\n 424,\n 464,\n 29,\n 10,\n 520,\n 46,\n 140,\n 390,\n 363,\n 726,\n 648,\n 619,\n 375,\n 259,\n 127,\n 211,\n 616,\n 56,\n 170,\n 109,\n 316,\n 105,\n 212,\n 30,\n 503,\n 31,\n 45,\n 127,\n 767,\n 310,\n 148,\n 50,\n 503,\n 264,\n 74,\n 555,\n 251,\n 505,\n 306,\n 183,\n 337,\n 159,\n 461,\n 351,\n 401,\n 698,\n 527,\n 63,\n 157,\n 469,\n 398,\n 33,\n 118,\n 23,\n 11,\n 837,\n 559,\n 93,\n 9,\n 165,\n 259,\n 549,\n 60,\n 314,\n 121,\n 208,\n 735,\n 10,\n 19,\n 252,\n 176,\n 37,\n 472,\n 340,\n 391,\n 180,\n 10,\n 195,\n 195,\n 12,\n 143,\n 272,\n 414,\n 531,\n 240,\n 254,\n 927,\n 100,\n 319,\n 338,\n 682,\n 386,\n 93,\n 689,\n 638,\n 106,\n 463,\n 87,\n 647,\n 1435,\n 4,\n 425,\n 474,\n 207,\n 297,\n 673,\n 257,\n 1438,\n 239,\n 377,\n 23,\n 496,\n 43,\n 127,\n 549,\n 151,\n 92,\n 17,\n 100,\n 1439,\n 707,\n 12,\n 419,\n 51,\n 603,\n 587,\n 65,\n 1427,\n 618,\n 648,\n 13,\n 351,\n 266,\n 463,\n 26,\n 402,\n 44,\n 492,\n 75,\n 506,\n 242,\n 310,\n 260,\n 30,\n 380,\n 128,\n 435,\n 416,\n 247,\n 279,\n 356,\n 95,\n 19,\n 15,\n 431,\n 422,\n 292,\n 1438,\n 456,\n 9,\n 84,\n 438,\n 1425,\n 504,\n 41,\n 686,\n 196,\n 515,\n 34,\n 3,\n 118,\n 70,\n 843,\n 244,\n 347,\n 9,\n 63,\n 208,\n 541,\n 298,\n 91,\n 399,\n 113,\n 449,\n 301,\n 964,\n 1439,\n 308,\n 100,\n 1413,\n 344,\n 72,\n 352,\n 285,\n 161,\n 82,\n 84,\n 35,\n 277,\n 620,\n 152,\n 1283,\n 533,\n 604,\n 653,\n 139,\n 28,\n 113,\n 212,\n 52,\n 96,\n 192,\n 122,\n 22,\n 4,\n 27,\n 536,\n 61,\n 437,\n 427,\n 378,\n 417,\n 488,\n 398,\n 730,\n 551,\n 63,\n 8,\n 406,\n 1356,\n 123,\n 113,\n 1375,\n 1339,\n 53,\n 94,\n 649,\n 376,\n 423,\n 348,\n 104,\n 8,\n 562,\n 42,\n 469,\n 30,\n 30,\n 271,\n 382,\n 215,\n 409,\n 156,\n 32,\n 425,\n 103,\n 501,\n 473,\n 81,\n 14,\n 288,\n 181,\n 579,\n 79,\n 31,\n 40,\n 21,\n 1417,\n 181,\n 677,\n 538,\n 25,\n 21,\n 189,\n 236,\n 31,\n 193,\n 38,\n 590,\n 3,\n 18,\n 8,\n 136,\n 593,\n 416,\n 7,\n 360,\n 396,\n 97,\n 70,\n 26,\n 1436,\n 427,\n 402,\n 10,\n 99,\n 366,\n 173,\n 382,\n 492,\n 599,\n 63,\n 19,\n 124,\n 46,\n 575,\n 39,\n 115,\n 260,\n 599,\n 125,\n 86,\n 330,\n 434,\n 1357,\n 134,\n 418,\n 460,\n 132,\n 553,\n 429,\n 697,\n 1303,\n 178,\n 34,\n 1422,\n 74,\n 1424,\n 482,\n 131,\n 309,\n 303,\n 36,\n 31,\n 71,\n 15,\n 16,\n 52,\n 1374,\n 130,\n 179,\n 635,\n 71,\n 520,\n 175,\n 146,\n 4,\n 781,\n 74,\n 21,\n 417,\n 407,\n 344,\n 353,\n 17,\n 403,\n 386,\n 26,\n 3,\n 66,\n 1257,\n 123,\n 764,\n 190,\n 508,\n 28,\n 236,\n 258,\n 419,\n 655,\n 323,\n 288,\n 32,\n 30,\n 191,\n 72,\n 419,\n 63,\n 67,\n 49,\n 39,\n 75,\n 85,\n 228,\n 30,\n 205,\n 67,\n 1165,\n 43,\n 44,\n 87,\n 29,\n 252,\n 177,\n 9,\n 302,\n 73,\n 6,\n 28,\n 80,\n 293,\n 33,\n 145,\n 48,\n 100,\n 50,\n 465,\n 138,\n 344,\n 543,\n 433,\n 259,\n ...]"
     },
     "execution_count": 10,
     "metadata": {},
     "output_type": "execute_result"
    }
   ],
   "source": [
    "revenue = list(revenue)\n",
    "revenue"
   ],
   "metadata": {
    "collapsed": false,
    "pycharm": {
     "name": "#%%\n"
    }
   }
  },
  {
   "cell_type": "code",
   "execution_count": 12,
   "outputs": [
    {
     "data": {
      "text/plain": "[0,\n 0,\n 1,\n 1,\n 0,\n 0,\n 0,\n 1,\n 1,\n 1,\n 0,\n 0,\n 0,\n 0,\n 0,\n 1,\n 1,\n 1,\n 0,\n 1,\n 0,\n 0,\n 0,\n 0,\n 0,\n 0,\n 0,\n 1,\n 0,\n 0,\n 0,\n 1,\n 0,\n 1,\n 0,\n 1,\n 1,\n 1,\n 0,\n 0,\n 0,\n 1,\n 1,\n 1,\n 0,\n 0,\n 1,\n 0,\n 0,\n 0,\n 0,\n 0,\n 0,\n 1,\n 1,\n 1,\n 1,\n 0,\n 1,\n 0,\n 1,\n 0,\n 0,\n 0,\n 0,\n 0,\n 0,\n 0,\n 1,\n 0,\n 1,\n 1,\n 1,\n 0,\n 0,\n 1,\n 0,\n 1,\n 1,\n 1,\n 0,\n 0,\n 1,\n 1,\n 1,\n 0,\n 0,\n 0,\n 0,\n 0,\n 0,\n 0,\n 0,\n 0,\n 1,\n 0,\n 0,\n 0,\n 0,\n 0,\n 0,\n 1,\n 1,\n 0,\n 0,\n 0,\n 0,\n 0,\n 1,\n 0,\n 0,\n 0,\n 0,\n 0,\n 0,\n 0,\n 1,\n 0,\n 0,\n 0,\n 0,\n 1,\n 0,\n 0,\n 0,\n 0,\n 0,\n 0,\n 0,\n 0,\n 0,\n 0,\n 0,\n 0,\n 0,\n 0,\n 0,\n 0,\n 0,\n 0,\n 0,\n 0,\n 0,\n 0,\n 0,\n 0,\n 1,\n 0,\n 0,\n 0,\n 0,\n 0,\n 0,\n 0,\n 0,\n 1,\n 0,\n 0,\n 0,\n 0,\n 0,\n 0,\n 0,\n 0,\n 0,\n 0,\n 1,\n 0,\n 0,\n 0,\n 0,\n 0,\n 0,\n 0,\n 0,\n 0,\n 0,\n 0,\n 0,\n 0,\n 0,\n 0,\n 0,\n 0,\n 0,\n 0,\n 0,\n 0,\n 0,\n 0,\n 0,\n 0,\n 0,\n 0,\n 0,\n 0,\n 0,\n 0,\n 0,\n 0,\n 0,\n 0,\n 0,\n 0,\n 0,\n 0,\n 0,\n 0,\n 0,\n 0,\n 0,\n 0,\n 0,\n 0,\n 0,\n 0,\n 0,\n 0,\n 0,\n 1,\n 0,\n 0,\n 0,\n 0,\n 0,\n 0,\n 0,\n 0,\n 0,\n 0,\n 0,\n 0,\n 0,\n 0,\n 0,\n 0,\n 0,\n 0,\n 0,\n 0,\n 0,\n 0,\n 0,\n 1,\n 0,\n 0,\n 0,\n 0,\n 0,\n 0,\n 0,\n 0,\n 0,\n 0,\n 0,\n 0,\n 0,\n 0,\n 0,\n 0,\n 0,\n 0,\n 0,\n 0,\n 0,\n 0,\n 0,\n 0,\n 0,\n 0,\n 0,\n 0,\n 0,\n 0,\n 0,\n 0,\n 0,\n 0,\n 0,\n 0,\n 0,\n 0,\n 0,\n 0,\n 0,\n 0,\n 0,\n 0,\n 0,\n 0,\n 0,\n 0,\n 0,\n 0,\n 0,\n 0,\n 0,\n 0,\n 0,\n 0,\n 0,\n 0,\n 0,\n 0,\n 0,\n 0,\n 0,\n 0,\n 0,\n 0,\n 0,\n 0,\n 0,\n 0,\n 0,\n 0,\n 0,\n 0,\n 0,\n 0,\n 0,\n 0,\n 0,\n 0,\n 0,\n 1,\n 0,\n 0,\n 0,\n 0,\n 0,\n 0,\n 0,\n 1,\n 0,\n 0,\n 0,\n 0,\n 0,\n 0,\n 0,\n 0,\n 0,\n 0,\n 0,\n 0,\n 0,\n 0,\n 0,\n 0,\n 0,\n 0,\n 0,\n 0,\n 0,\n 0,\n 0,\n 0,\n 0,\n 0,\n 0,\n 0,\n 0,\n 0,\n 0,\n 0,\n 0,\n 0,\n 0,\n 0,\n 0,\n 0,\n 0,\n 0,\n 0,\n 0,\n 0,\n 0,\n 0,\n 0,\n 0,\n 0,\n 0,\n 0,\n 0,\n 0,\n 0,\n 0,\n 0,\n 0,\n 0,\n 0,\n 1,\n 0,\n 0,\n 0,\n 0,\n 0,\n 0,\n 0,\n 0,\n 0,\n 0,\n 0,\n 0,\n 0,\n 0,\n 0,\n 0,\n 0,\n 0,\n 0,\n 1,\n 0,\n 0,\n 0,\n 0,\n 0,\n 0,\n 0,\n 0,\n 0,\n 0,\n 0,\n 0,\n 0,\n 0,\n 0,\n 0,\n 0,\n 1,\n 0,\n 0,\n 0,\n 0,\n 0,\n 0,\n 0,\n 0,\n 0,\n 0,\n 0,\n 0,\n 0,\n 0,\n 0,\n 0,\n 0,\n 0,\n 0,\n 0,\n 0,\n 0,\n 0,\n 0,\n 0,\n 0,\n 0,\n 0,\n 0,\n 0,\n 0,\n 0,\n 0,\n 0,\n 0,\n 0,\n 0,\n 0,\n 0,\n 0,\n 0,\n 0,\n 0,\n 0,\n 0,\n 0,\n 0,\n 0,\n 0,\n 0,\n 0,\n 0,\n 0,\n 0,\n 0,\n 0,\n 0,\n 0,\n 0,\n 0,\n 0,\n 0,\n 0,\n 0,\n 0,\n 0,\n 0,\n 0,\n 0,\n 0,\n 0,\n 0,\n 0,\n 0,\n 0,\n 0,\n 0,\n 0,\n 0,\n 0,\n 0,\n 0,\n 0,\n 0,\n 0,\n 0,\n 0,\n 0,\n 0,\n 0,\n 0,\n 0,\n 0,\n 0,\n 0,\n 0,\n 0,\n 0,\n 0,\n 0,\n 0,\n 0,\n 0,\n 0,\n 0,\n 0,\n 0,\n 0,\n 0,\n 0,\n 0,\n 0,\n 0,\n 0,\n 0,\n 0,\n 0,\n 0,\n 0,\n 0,\n 0,\n 0,\n 0,\n 0,\n 0,\n 0,\n 0,\n 0,\n 0,\n 0,\n 0,\n 0,\n 0,\n 1,\n 0,\n 0,\n 0,\n 0,\n 0,\n 0,\n 0,\n 0,\n 0,\n 0,\n 0,\n 0,\n 0,\n 0,\n 0,\n 0,\n 0,\n 0,\n 0,\n 0,\n 0,\n 0,\n 0,\n 0,\n 0,\n 0,\n 1,\n 0,\n 0,\n 0,\n 0,\n 0,\n 0,\n 0,\n 0,\n 0,\n 0,\n 0,\n 0,\n 0,\n 0,\n 0,\n 0,\n 0,\n 0,\n 0,\n 0,\n 0,\n 0,\n 0,\n 0,\n 0,\n 0,\n 0,\n 0,\n 0,\n 0,\n 0,\n 0,\n 0,\n 0,\n 0,\n 0,\n 0,\n 0,\n 0,\n 0,\n 0,\n 0,\n 0,\n 0,\n 0,\n 0,\n 0,\n 0,\n 0,\n 0,\n 0,\n 0,\n 0,\n 0,\n 0,\n 0,\n 0,\n 0,\n 0,\n 0,\n 0,\n 0,\n 0,\n 0,\n 0,\n 0,\n 0,\n 0,\n 0,\n 0,\n 0,\n 0,\n 0,\n 0,\n 0,\n 0,\n 0,\n 0,\n 0,\n 0,\n 0,\n 0,\n 0,\n 0,\n 0,\n 0,\n 0,\n 0,\n 0,\n 0,\n 0,\n 0,\n 0,\n 0,\n 0,\n 0,\n 0,\n 0,\n 0,\n 0,\n 0,\n 0,\n 0,\n 0,\n 0,\n 0,\n 0,\n 0,\n 0,\n 0,\n 0,\n 0,\n 0,\n 0,\n 0,\n 0,\n 0,\n 0,\n 0,\n 0,\n 0,\n 0,\n 0,\n 0,\n 0,\n 0,\n 0,\n 0,\n 0,\n 0,\n 0,\n 0,\n 0,\n 0,\n 0,\n 0,\n 0,\n 0,\n 0,\n 0,\n 1,\n 0,\n 0,\n 0,\n 0,\n 0,\n 0,\n 0,\n 0,\n 0,\n 0,\n 0,\n 0,\n 0,\n 0,\n 0,\n 0,\n 0,\n 0,\n 0,\n 0,\n 0,\n 0,\n 0,\n 0,\n 0,\n 0,\n 0,\n 0,\n 0,\n 0,\n 0,\n 0,\n 0,\n 0,\n 0,\n 0,\n 0,\n 0,\n 0,\n 0,\n 0,\n 0,\n 0,\n 0,\n 0,\n 0,\n 0,\n 0,\n 0,\n 0,\n 0,\n 0,\n 0,\n 0,\n 0,\n 0,\n 0,\n 0,\n 0,\n 0,\n 0,\n 0,\n 0,\n 0,\n 0,\n 0,\n 0,\n 0,\n 0,\n 0,\n 0,\n 0,\n 0,\n 0,\n 0,\n 0,\n 0,\n 0,\n 0,\n 0,\n 0,\n 0,\n 0,\n 0,\n 0,\n 0,\n 0,\n 0,\n 0,\n 0,\n 0,\n 0,\n 0,\n 0,\n 0,\n 0,\n 0,\n 0,\n 0,\n 1,\n 0,\n 0,\n 0,\n 0,\n 0,\n 0,\n 0,\n 0,\n 1,\n 0,\n 0,\n 0,\n 0,\n 0,\n 0,\n 0,\n 0,\n 0,\n 0,\n 0,\n 1,\n 0,\n 0,\n 0,\n 0,\n 0,\n 0,\n 0,\n 0,\n 0,\n 1,\n 0,\n 0,\n 0,\n 0,\n 0,\n 0,\n 0,\n 0,\n 0,\n 0,\n 0,\n 0,\n 0,\n 0,\n 0,\n 0,\n 0,\n 0,\n 0,\n 0,\n 0,\n 0,\n 0,\n 0,\n 0,\n 0,\n 0,\n 0,\n 0,\n 0,\n 0,\n 0,\n 0,\n 0,\n 0,\n 0,\n 0,\n 0,\n 0,\n 0,\n 0,\n 0,\n 0,\n 0,\n 0,\n 0,\n 0,\n 0,\n 0,\n 0,\n 0,\n 0,\n 0,\n 0,\n 0,\n 0,\n 1,\n 0,\n 0,\n 0,\n 0,\n 0,\n 0,\n 0,\n 0,\n 0,\n 0,\n 0,\n 0,\n 0,\n 0,\n 0,\n 0,\n 0,\n 0,\n 0,\n 0,\n 0,\n 0,\n 0,\n 0,\n 0,\n 0,\n 0,\n 0,\n 0,\n 0,\n 0,\n 0,\n 0,\n 0,\n 0,\n 0,\n 0,\n 0,\n 0,\n 0,\n 1,\n 0,\n 0,\n 0,\n 0,\n 0,\n 0,\n 1,\n 0,\n 0,\n 0,\n 1,\n 0,\n 0,\n 0,\n 1,\n 1,\n 0,\n 0,\n 0,\n 0,\n 0,\n 0,\n 0,\n 0,\n 1,\n 0,\n 0,\n 1,\n 0,\n 0,\n 0,\n 0,\n 0,\n 0,\n 0,\n 0,\n 0,\n 0,\n ...]"
     },
     "execution_count": 12,
     "metadata": {},
     "output_type": "execute_result"
    }
   ],
   "source": [
    "list(np.array(req_info['charge_label'],dtype=int))"
   ],
   "metadata": {
    "collapsed": false,
    "pycharm": {
     "name": "#%%\n"
    }
   }
  },
  {
   "cell_type": "code",
   "execution_count": 14,
   "outputs": [],
   "source": [
    "from collections import defaultdict\n",
    "\n",
    "dicts = defaultdict(lambda: np.zeros(3))"
   ],
   "metadata": {
    "collapsed": false,
    "pycharm": {
     "name": "#%%\n"
    }
   }
  },
  {
   "cell_type": "code",
   "execution_count": 16,
   "outputs": [
    {
     "name": "stdout",
     "output_type": "stream",
     "text": [
      "dict_items([])\n"
     ]
    }
   ],
   "source": [
    "print(dicts.items())"
   ],
   "metadata": {
    "collapsed": false,
    "pycharm": {
     "name": "#%%\n"
    }
   }
  },
  {
   "cell_type": "code",
   "execution_count": 17,
   "outputs": [
    {
     "data": {
      "text/plain": "array([0, 1, 2, 3, 4, 5, 6, 7, 8, 9])"
     },
     "execution_count": 17,
     "metadata": {},
     "output_type": "execute_result"
    }
   ],
   "source": [
    "np.arange(10)"
   ],
   "metadata": {
    "collapsed": false,
    "pycharm": {
     "name": "#%%\n"
    }
   }
  },
  {
   "cell_type": "code",
   "execution_count": 93,
   "outputs": [
    {
     "ename": "TypeError",
     "evalue": "unhashable type: 'numpy.ndarray'",
     "output_type": "error",
     "traceback": [
      "\u001B[1;31m---------------------------------------------------------------------------\u001B[0m",
      "\u001B[1;31mTypeError\u001B[0m                                 Traceback (most recent call last)",
      "Input \u001B[1;32mIn [93]\u001B[0m, in \u001B[0;36m<cell line: 2>\u001B[1;34m()\u001B[0m\n\u001B[0;32m      1\u001B[0m key_dict \u001B[38;5;241m=\u001B[39m {\u001B[38;5;124m'\u001B[39m\u001B[38;5;124ma\u001B[39m\u001B[38;5;124m'\u001B[39m: \u001B[38;5;28mtuple\u001B[39m(np\u001B[38;5;241m.\u001B[39marray([[\u001B[38;5;241m1\u001B[39m,\u001B[38;5;241m5\u001B[39m,\u001B[38;5;241m6\u001B[39m],[\u001B[38;5;241m2\u001B[39m,\u001B[38;5;241m3\u001B[39m,\u001B[38;5;241m4\u001B[39m]])), \u001B[38;5;124m'\u001B[39m\u001B[38;5;124mb\u001B[39m\u001B[38;5;124m'\u001B[39m: \u001B[38;5;241m2\u001B[39m, \u001B[38;5;124m'\u001B[39m\u001B[38;5;124mc\u001B[39m\u001B[38;5;124m'\u001B[39m: \u001B[38;5;241m3\u001B[39m}\n\u001B[1;32m----> 2\u001B[0m frozen_key \u001B[38;5;241m=\u001B[39m \u001B[38;5;28;43mfrozenset\u001B[39;49m\u001B[43m(\u001B[49m\u001B[43mkey_dict\u001B[49m\u001B[38;5;241;43m.\u001B[39;49m\u001B[43mitems\u001B[49m\u001B[43m(\u001B[49m\u001B[43m)\u001B[49m\u001B[43m)\u001B[49m\n\u001B[0;32m      3\u001B[0m frozen_key\n",
      "\u001B[1;31mTypeError\u001B[0m: unhashable type: 'numpy.ndarray'"
     ]
    }
   ],
   "source": [
    "key_dict = {'a': tuple(np.array([[1,5,6],[2,3,4]])), 'b': 2, 'c': 3}\n",
    "frozen_key = frozenset(key_dict.items())\n",
    "frozen_key"
   ],
   "metadata": {
    "collapsed": false,
    "pycharm": {
     "name": "#%%\n"
    }
   }
  },
  {
   "cell_type": "code",
   "execution_count": 98,
   "outputs": [],
   "source": [
    "test_list = []\n",
    "for item in key_dict.items():\n",
    "    test_list.append(item)"
   ],
   "metadata": {
    "collapsed": false,
    "pycharm": {
     "name": "#%%\n"
    }
   }
  },
  {
   "cell_type": "code",
   "execution_count": 101,
   "outputs": [
    {
     "data": {
      "text/plain": "('a', (array([1, 5, 6]), array([2, 3, 4])))"
     },
     "execution_count": 101,
     "metadata": {},
     "output_type": "execute_result"
    }
   ],
   "source": [
    "test_list[0]"
   ],
   "metadata": {
    "collapsed": false,
    "pycharm": {
     "name": "#%%\n"
    }
   }
  },
  {
   "cell_type": "code",
   "execution_count": 66,
   "outputs": [],
   "source": [
    "new_dict = {frozen_key:\"values\",\"test\":\"test_value\"}"
   ],
   "metadata": {
    "collapsed": false,
    "pycharm": {
     "name": "#%%\n"
    }
   }
  },
  {
   "cell_type": "code",
   "execution_count": 84,
   "outputs": [
    {
     "data": {
      "text/plain": "{'b': 2, 'c': 3, 'a': (1, 5, 6)}"
     },
     "execution_count": 84,
     "metadata": {},
     "output_type": "execute_result"
    }
   ],
   "source": [
    "dict(list((new_dict.keys()))[0])"
   ],
   "metadata": {
    "collapsed": false,
    "pycharm": {
     "name": "#%%\n"
    }
   }
  },
  {
   "cell_type": "code",
   "execution_count": 79,
   "outputs": [],
   "source": [
    "key = [{'a': ([1, 5, 6]), 'b': 2, 'c': 3},{'a': 2, 'b': 2, 'c': 3},{'a': 1, 'b': 5, 'c': 3}]"
   ],
   "metadata": {
    "collapsed": false,
    "pycharm": {
     "name": "#%%\n"
    }
   }
  },
  {
   "cell_type": "code",
   "execution_count": 83,
   "outputs": [
    {
     "data": {
      "text/plain": "True"
     },
     "execution_count": 83,
     "metadata": {},
     "output_type": "execute_result"
    }
   ],
   "source": [
    "{'a': ([1, 5, 6]), 'b': 2, 'c': 3} in key"
   ],
   "metadata": {
    "collapsed": false,
    "pycharm": {
     "name": "#%%\n"
    }
   }
  },
  {
   "cell_type": "code",
   "execution_count": 78,
   "outputs": [
    {
     "data": {
      "text/plain": "numpy.ndarray"
     },
     "execution_count": 78,
     "metadata": {},
     "output_type": "execute_result"
    }
   ],
   "source": [
    "import numpy as np\n",
    "type(np.array(tuple([[1,2,3],[4,5,6]])))"
   ],
   "metadata": {
    "collapsed": false,
    "pycharm": {
     "name": "#%%\n"
    }
   }
  },
  {
   "cell_type": "code",
   "execution_count": 91,
   "outputs": [
    {
     "data": {
      "text/plain": "(array([1, 5, 6]), array([2, 3, 4]))"
     },
     "execution_count": 91,
     "metadata": {},
     "output_type": "execute_result"
    }
   ],
   "source": [
    "tuple(np.array([[1,5,6],[2,3,4]]))"
   ],
   "metadata": {
    "collapsed": false,
    "pycharm": {
     "name": "#%%\n"
    }
   }
  },
  {
   "cell_type": "markdown",
   "source": [
    "# 0119 计算每个请求的收益"
   ],
   "metadata": {
    "collapsed": false,
    "pycharm": {
     "name": "#%% md\n"
    }
   }
  },
  {
   "cell_type": "code",
   "execution_count": 2,
   "outputs": [],
   "source": [
    "import os\n",
    "import numpy as np\n",
    "import pandas as pd\n",
    "import matplotlib.pyplot as plt"
   ],
   "metadata": {
    "collapsed": false,
    "pycharm": {
     "name": "#%%\n"
    }
   }
  },
  {
   "cell_type": "code",
   "execution_count": 3,
   "outputs": [
    {
     "data": {
      "text/plain": "'G:\\\\纵向\\\\小论文\\\\停车分配\\\\DRL'"
     },
     "execution_count": 3,
     "metadata": {},
     "output_type": "execute_result"
    }
   ],
   "source": [
    "os.getcwd()"
   ],
   "metadata": {
    "collapsed": false,
    "pycharm": {
     "name": "#%%\n"
    }
   }
  },
  {
   "cell_type": "code",
   "execution_count": 6,
   "outputs": [
    {
     "data": {
      "text/plain": "      Unnamed: 0                req_t             depart_t  travel_t  \\\n0              0  2022-02-16 22:53:44  2022-02-16 23:08:44        66   \n1              1  2022-02-16 23:04:38  2022-02-16 23:19:38       104   \n2              2  2022-02-16 23:22:00  2022-02-16 23:37:00        52   \n3              3  2022-02-16 23:24:00  2022-02-16 23:39:00        52   \n4              4  2022-02-16 23:29:11  2022-02-16 23:44:11        17   \n...          ...                  ...                  ...       ...   \n2115        2115  2022-02-17 23:07:35  2022-02-17 23:22:35        14   \n2116        2116  2022-02-17 23:10:34  2022-02-17 23:25:34        25   \n2117        2117  2022-02-17 23:13:56  2022-02-17 23:28:56        26   \n2118        2118  2022-02-17 23:15:00  2022-02-17 23:30:00        18   \n2119        2119  2022-02-17 23:28:47  2022-02-17 23:43:47         4   \n\n                    arr_t    parking_t                lea_t  charge_label  \\\n0     2022-02-17 00:14:44  1398.333333  2022-02-18 23:33:04             0   \n1     2022-02-17 01:03:38   169.733333  2022-02-18 03:53:22             0   \n2     2022-02-17 00:29:00          NaN  2022-02-17 01:00:00             1   \n3     2022-02-17 00:31:00          NaN  2022-02-17 01:07:00             1   \n4     2022-02-17 00:01:11   470.700000  2022-02-17 07:51:53             0   \n...                   ...          ...                  ...           ...   \n2115  2022-02-17 23:36:35   605.766667  2022-02-18 09:42:21             0   \n2116  2022-02-17 23:50:34     3.066667  2022-02-17 23:53:38             0   \n2117  2022-02-17 23:54:56  1215.216667  2022-02-18 20:10:09             0   \n2118  2022-02-17 23:48:00          NaN  2022-02-18 00:22:00             1   \n2119  2022-02-17 23:47:47   802.883333  2022-02-18 13:10:40             0   \n\n      char_t  req_interval  depart_interval  lea_interval  arr_interval  dest  \\\n0        NaN             0                1           194             5     2   \n1        NaN             0                1           115             8     2   \n2       31.0             1                2             8             6     3   \n3       36.0             2                3             8             6     3   \n4        NaN             2                3            35             4     2   \n...      ...           ...              ...           ...           ...   ...   \n2115     NaN            96               97           139            98     3   \n2116     NaN            97               98            99            99     1   \n2117     NaN            97               98           181           100     2   \n2118    34.0            97               98           101            99     2   \n2119     NaN            98               99           153            99     3   \n\n      waiting_time  time_label  \n0        15.000000         3.0  \n1         4.100000         1.0  \n2         1.733333         NaN  \n3        14.733333         NaN  \n4         9.550000         2.0  \n...            ...         ...  \n2115      1.150000         3.0  \n2116     13.166667         0.0  \n2117      9.800000         3.0  \n2118      8.733333         NaN  \n2119      9.950000         3.0  \n\n[2120 rows x 16 columns]",
      "text/html": "<div>\n<style scoped>\n    .dataframe tbody tr th:only-of-type {\n        vertical-align: middle;\n    }\n\n    .dataframe tbody tr th {\n        vertical-align: top;\n    }\n\n    .dataframe thead th {\n        text-align: right;\n    }\n</style>\n<table border=\"1\" class=\"dataframe\">\n  <thead>\n    <tr style=\"text-align: right;\">\n      <th></th>\n      <th>Unnamed: 0</th>\n      <th>req_t</th>\n      <th>depart_t</th>\n      <th>travel_t</th>\n      <th>arr_t</th>\n      <th>parking_t</th>\n      <th>lea_t</th>\n      <th>charge_label</th>\n      <th>char_t</th>\n      <th>req_interval</th>\n      <th>depart_interval</th>\n      <th>lea_interval</th>\n      <th>arr_interval</th>\n      <th>dest</th>\n      <th>waiting_time</th>\n      <th>time_label</th>\n    </tr>\n  </thead>\n  <tbody>\n    <tr>\n      <th>0</th>\n      <td>0</td>\n      <td>2022-02-16 22:53:44</td>\n      <td>2022-02-16 23:08:44</td>\n      <td>66</td>\n      <td>2022-02-17 00:14:44</td>\n      <td>1398.333333</td>\n      <td>2022-02-18 23:33:04</td>\n      <td>0</td>\n      <td>NaN</td>\n      <td>0</td>\n      <td>1</td>\n      <td>194</td>\n      <td>5</td>\n      <td>2</td>\n      <td>15.000000</td>\n      <td>3.0</td>\n    </tr>\n    <tr>\n      <th>1</th>\n      <td>1</td>\n      <td>2022-02-16 23:04:38</td>\n      <td>2022-02-16 23:19:38</td>\n      <td>104</td>\n      <td>2022-02-17 01:03:38</td>\n      <td>169.733333</td>\n      <td>2022-02-18 03:53:22</td>\n      <td>0</td>\n      <td>NaN</td>\n      <td>0</td>\n      <td>1</td>\n      <td>115</td>\n      <td>8</td>\n      <td>2</td>\n      <td>4.100000</td>\n      <td>1.0</td>\n    </tr>\n    <tr>\n      <th>2</th>\n      <td>2</td>\n      <td>2022-02-16 23:22:00</td>\n      <td>2022-02-16 23:37:00</td>\n      <td>52</td>\n      <td>2022-02-17 00:29:00</td>\n      <td>NaN</td>\n      <td>2022-02-17 01:00:00</td>\n      <td>1</td>\n      <td>31.0</td>\n      <td>1</td>\n      <td>2</td>\n      <td>8</td>\n      <td>6</td>\n      <td>3</td>\n      <td>1.733333</td>\n      <td>NaN</td>\n    </tr>\n    <tr>\n      <th>3</th>\n      <td>3</td>\n      <td>2022-02-16 23:24:00</td>\n      <td>2022-02-16 23:39:00</td>\n      <td>52</td>\n      <td>2022-02-17 00:31:00</td>\n      <td>NaN</td>\n      <td>2022-02-17 01:07:00</td>\n      <td>1</td>\n      <td>36.0</td>\n      <td>2</td>\n      <td>3</td>\n      <td>8</td>\n      <td>6</td>\n      <td>3</td>\n      <td>14.733333</td>\n      <td>NaN</td>\n    </tr>\n    <tr>\n      <th>4</th>\n      <td>4</td>\n      <td>2022-02-16 23:29:11</td>\n      <td>2022-02-16 23:44:11</td>\n      <td>17</td>\n      <td>2022-02-17 00:01:11</td>\n      <td>470.700000</td>\n      <td>2022-02-17 07:51:53</td>\n      <td>0</td>\n      <td>NaN</td>\n      <td>2</td>\n      <td>3</td>\n      <td>35</td>\n      <td>4</td>\n      <td>2</td>\n      <td>9.550000</td>\n      <td>2.0</td>\n    </tr>\n    <tr>\n      <th>...</th>\n      <td>...</td>\n      <td>...</td>\n      <td>...</td>\n      <td>...</td>\n      <td>...</td>\n      <td>...</td>\n      <td>...</td>\n      <td>...</td>\n      <td>...</td>\n      <td>...</td>\n      <td>...</td>\n      <td>...</td>\n      <td>...</td>\n      <td>...</td>\n      <td>...</td>\n      <td>...</td>\n    </tr>\n    <tr>\n      <th>2115</th>\n      <td>2115</td>\n      <td>2022-02-17 23:07:35</td>\n      <td>2022-02-17 23:22:35</td>\n      <td>14</td>\n      <td>2022-02-17 23:36:35</td>\n      <td>605.766667</td>\n      <td>2022-02-18 09:42:21</td>\n      <td>0</td>\n      <td>NaN</td>\n      <td>96</td>\n      <td>97</td>\n      <td>139</td>\n      <td>98</td>\n      <td>3</td>\n      <td>1.150000</td>\n      <td>3.0</td>\n    </tr>\n    <tr>\n      <th>2116</th>\n      <td>2116</td>\n      <td>2022-02-17 23:10:34</td>\n      <td>2022-02-17 23:25:34</td>\n      <td>25</td>\n      <td>2022-02-17 23:50:34</td>\n      <td>3.066667</td>\n      <td>2022-02-17 23:53:38</td>\n      <td>0</td>\n      <td>NaN</td>\n      <td>97</td>\n      <td>98</td>\n      <td>99</td>\n      <td>99</td>\n      <td>1</td>\n      <td>13.166667</td>\n      <td>0.0</td>\n    </tr>\n    <tr>\n      <th>2117</th>\n      <td>2117</td>\n      <td>2022-02-17 23:13:56</td>\n      <td>2022-02-17 23:28:56</td>\n      <td>26</td>\n      <td>2022-02-17 23:54:56</td>\n      <td>1215.216667</td>\n      <td>2022-02-18 20:10:09</td>\n      <td>0</td>\n      <td>NaN</td>\n      <td>97</td>\n      <td>98</td>\n      <td>181</td>\n      <td>100</td>\n      <td>2</td>\n      <td>9.800000</td>\n      <td>3.0</td>\n    </tr>\n    <tr>\n      <th>2118</th>\n      <td>2118</td>\n      <td>2022-02-17 23:15:00</td>\n      <td>2022-02-17 23:30:00</td>\n      <td>18</td>\n      <td>2022-02-17 23:48:00</td>\n      <td>NaN</td>\n      <td>2022-02-18 00:22:00</td>\n      <td>1</td>\n      <td>34.0</td>\n      <td>97</td>\n      <td>98</td>\n      <td>101</td>\n      <td>99</td>\n      <td>2</td>\n      <td>8.733333</td>\n      <td>NaN</td>\n    </tr>\n    <tr>\n      <th>2119</th>\n      <td>2119</td>\n      <td>2022-02-17 23:28:47</td>\n      <td>2022-02-17 23:43:47</td>\n      <td>4</td>\n      <td>2022-02-17 23:47:47</td>\n      <td>802.883333</td>\n      <td>2022-02-18 13:10:40</td>\n      <td>0</td>\n      <td>NaN</td>\n      <td>98</td>\n      <td>99</td>\n      <td>153</td>\n      <td>99</td>\n      <td>3</td>\n      <td>9.950000</td>\n      <td>3.0</td>\n    </tr>\n  </tbody>\n</table>\n<p>2120 rows × 16 columns</p>\n</div>"
     },
     "execution_count": 6,
     "metadata": {},
     "output_type": "execute_result"
    }
   ],
   "source": [
    "req_info = pd.read_csv(r\"demand/1206-全部信息.csv\")\n",
    "req_info"
   ],
   "metadata": {
    "collapsed": false,
    "pycharm": {
     "name": "#%%\n"
    }
   }
  },
  {
   "cell_type": "code",
   "execution_count": 7,
   "outputs": [],
   "source": [
    "charge_label = req_info['charge_label']\n",
    "rmk = pd.read_csv(r\"demand/1206-rmk.csv\")\n",
    "fee = pd.read_csv(r\"demand/1128_charge_fee.csv\")"
   ],
   "metadata": {
    "collapsed": false,
    "pycharm": {
     "name": "#%%\n"
    }
   }
  },
  {
   "cell_type": "code",
   "execution_count": 8,
   "outputs": [
    {
     "data": {
      "text/plain": "      0  1  2  3  4  5  6  7  8  9  ...  185  186  187  188  189  190  191  \\\n0     0  0  0  0  0  1  1  1  1  1  ...    1    1    1    1    1    1    1   \n1     0  0  0  0  0  0  0  0  1  1  ...    0    0    0    0    0    0    0   \n2     0  0  0  0  0  0  1  1  1  0  ...    0    0    0    0    0    0    0   \n3     0  0  0  0  0  0  1  1  1  0  ...    0    0    0    0    0    0    0   \n4     0  0  0  0  1  1  1  1  1  1  ...    0    0    0    0    0    0    0   \n...  .. .. .. .. .. .. .. .. .. ..  ...  ...  ...  ...  ...  ...  ...  ...   \n2115  0  0  0  0  0  0  0  0  0  0  ...    0    0    0    0    0    0    0   \n2116  0  0  0  0  0  0  0  0  0  0  ...    0    0    0    0    0    0    0   \n2117  0  0  0  0  0  0  0  0  0  0  ...    0    0    0    0    0    0    0   \n2118  0  0  0  0  0  0  0  0  0  0  ...    0    0    0    0    0    0    0   \n2119  0  0  0  0  0  0  0  0  0  0  ...    0    0    0    0    0    0    0   \n\n      192  193  194  \n0       1    1    1  \n1       0    0    0  \n2       0    0    0  \n3       0    0    0  \n4       0    0    0  \n...   ...  ...  ...  \n2115    0    0    0  \n2116    0    0    0  \n2117    0    0    0  \n2118    0    0    0  \n2119    0    0    0  \n\n[2120 rows x 195 columns]",
      "text/html": "<div>\n<style scoped>\n    .dataframe tbody tr th:only-of-type {\n        vertical-align: middle;\n    }\n\n    .dataframe tbody tr th {\n        vertical-align: top;\n    }\n\n    .dataframe thead th {\n        text-align: right;\n    }\n</style>\n<table border=\"1\" class=\"dataframe\">\n  <thead>\n    <tr style=\"text-align: right;\">\n      <th></th>\n      <th>0</th>\n      <th>1</th>\n      <th>2</th>\n      <th>3</th>\n      <th>4</th>\n      <th>5</th>\n      <th>6</th>\n      <th>7</th>\n      <th>8</th>\n      <th>9</th>\n      <th>...</th>\n      <th>185</th>\n      <th>186</th>\n      <th>187</th>\n      <th>188</th>\n      <th>189</th>\n      <th>190</th>\n      <th>191</th>\n      <th>192</th>\n      <th>193</th>\n      <th>194</th>\n    </tr>\n  </thead>\n  <tbody>\n    <tr>\n      <th>0</th>\n      <td>0</td>\n      <td>0</td>\n      <td>0</td>\n      <td>0</td>\n      <td>0</td>\n      <td>1</td>\n      <td>1</td>\n      <td>1</td>\n      <td>1</td>\n      <td>1</td>\n      <td>...</td>\n      <td>1</td>\n      <td>1</td>\n      <td>1</td>\n      <td>1</td>\n      <td>1</td>\n      <td>1</td>\n      <td>1</td>\n      <td>1</td>\n      <td>1</td>\n      <td>1</td>\n    </tr>\n    <tr>\n      <th>1</th>\n      <td>0</td>\n      <td>0</td>\n      <td>0</td>\n      <td>0</td>\n      <td>0</td>\n      <td>0</td>\n      <td>0</td>\n      <td>0</td>\n      <td>1</td>\n      <td>1</td>\n      <td>...</td>\n      <td>0</td>\n      <td>0</td>\n      <td>0</td>\n      <td>0</td>\n      <td>0</td>\n      <td>0</td>\n      <td>0</td>\n      <td>0</td>\n      <td>0</td>\n      <td>0</td>\n    </tr>\n    <tr>\n      <th>2</th>\n      <td>0</td>\n      <td>0</td>\n      <td>0</td>\n      <td>0</td>\n      <td>0</td>\n      <td>0</td>\n      <td>1</td>\n      <td>1</td>\n      <td>1</td>\n      <td>0</td>\n      <td>...</td>\n      <td>0</td>\n      <td>0</td>\n      <td>0</td>\n      <td>0</td>\n      <td>0</td>\n      <td>0</td>\n      <td>0</td>\n      <td>0</td>\n      <td>0</td>\n      <td>0</td>\n    </tr>\n    <tr>\n      <th>3</th>\n      <td>0</td>\n      <td>0</td>\n      <td>0</td>\n      <td>0</td>\n      <td>0</td>\n      <td>0</td>\n      <td>1</td>\n      <td>1</td>\n      <td>1</td>\n      <td>0</td>\n      <td>...</td>\n      <td>0</td>\n      <td>0</td>\n      <td>0</td>\n      <td>0</td>\n      <td>0</td>\n      <td>0</td>\n      <td>0</td>\n      <td>0</td>\n      <td>0</td>\n      <td>0</td>\n    </tr>\n    <tr>\n      <th>4</th>\n      <td>0</td>\n      <td>0</td>\n      <td>0</td>\n      <td>0</td>\n      <td>1</td>\n      <td>1</td>\n      <td>1</td>\n      <td>1</td>\n      <td>1</td>\n      <td>1</td>\n      <td>...</td>\n      <td>0</td>\n      <td>0</td>\n      <td>0</td>\n      <td>0</td>\n      <td>0</td>\n      <td>0</td>\n      <td>0</td>\n      <td>0</td>\n      <td>0</td>\n      <td>0</td>\n    </tr>\n    <tr>\n      <th>...</th>\n      <td>...</td>\n      <td>...</td>\n      <td>...</td>\n      <td>...</td>\n      <td>...</td>\n      <td>...</td>\n      <td>...</td>\n      <td>...</td>\n      <td>...</td>\n      <td>...</td>\n      <td>...</td>\n      <td>...</td>\n      <td>...</td>\n      <td>...</td>\n      <td>...</td>\n      <td>...</td>\n      <td>...</td>\n      <td>...</td>\n      <td>...</td>\n      <td>...</td>\n      <td>...</td>\n    </tr>\n    <tr>\n      <th>2115</th>\n      <td>0</td>\n      <td>0</td>\n      <td>0</td>\n      <td>0</td>\n      <td>0</td>\n      <td>0</td>\n      <td>0</td>\n      <td>0</td>\n      <td>0</td>\n      <td>0</td>\n      <td>...</td>\n      <td>0</td>\n      <td>0</td>\n      <td>0</td>\n      <td>0</td>\n      <td>0</td>\n      <td>0</td>\n      <td>0</td>\n      <td>0</td>\n      <td>0</td>\n      <td>0</td>\n    </tr>\n    <tr>\n      <th>2116</th>\n      <td>0</td>\n      <td>0</td>\n      <td>0</td>\n      <td>0</td>\n      <td>0</td>\n      <td>0</td>\n      <td>0</td>\n      <td>0</td>\n      <td>0</td>\n      <td>0</td>\n      <td>...</td>\n      <td>0</td>\n      <td>0</td>\n      <td>0</td>\n      <td>0</td>\n      <td>0</td>\n      <td>0</td>\n      <td>0</td>\n      <td>0</td>\n      <td>0</td>\n      <td>0</td>\n    </tr>\n    <tr>\n      <th>2117</th>\n      <td>0</td>\n      <td>0</td>\n      <td>0</td>\n      <td>0</td>\n      <td>0</td>\n      <td>0</td>\n      <td>0</td>\n      <td>0</td>\n      <td>0</td>\n      <td>0</td>\n      <td>...</td>\n      <td>0</td>\n      <td>0</td>\n      <td>0</td>\n      <td>0</td>\n      <td>0</td>\n      <td>0</td>\n      <td>0</td>\n      <td>0</td>\n      <td>0</td>\n      <td>0</td>\n    </tr>\n    <tr>\n      <th>2118</th>\n      <td>0</td>\n      <td>0</td>\n      <td>0</td>\n      <td>0</td>\n      <td>0</td>\n      <td>0</td>\n      <td>0</td>\n      <td>0</td>\n      <td>0</td>\n      <td>0</td>\n      <td>...</td>\n      <td>0</td>\n      <td>0</td>\n      <td>0</td>\n      <td>0</td>\n      <td>0</td>\n      <td>0</td>\n      <td>0</td>\n      <td>0</td>\n      <td>0</td>\n      <td>0</td>\n    </tr>\n    <tr>\n      <th>2119</th>\n      <td>0</td>\n      <td>0</td>\n      <td>0</td>\n      <td>0</td>\n      <td>0</td>\n      <td>0</td>\n      <td>0</td>\n      <td>0</td>\n      <td>0</td>\n      <td>0</td>\n      <td>...</td>\n      <td>0</td>\n      <td>0</td>\n      <td>0</td>\n      <td>0</td>\n      <td>0</td>\n      <td>0</td>\n      <td>0</td>\n      <td>0</td>\n      <td>0</td>\n      <td>0</td>\n    </tr>\n  </tbody>\n</table>\n<p>2120 rows × 195 columns</p>\n</div>"
     },
     "execution_count": 8,
     "metadata": {},
     "output_type": "execute_result"
    }
   ],
   "source": [
    "rmk"
   ],
   "metadata": {
    "collapsed": false,
    "pycharm": {
     "name": "#%%\n"
    }
   }
  },
  {
   "cell_type": "code",
   "execution_count": 10,
   "outputs": [
    {
     "data": {
      "text/plain": "        0\n0    0.69\n1    0.69\n2    0.69\n3    0.69\n4    0.69\n..    ...\n190  0.69\n191  0.69\n192  0.69\n193  0.69\n194  0.69\n\n[195 rows x 1 columns]",
      "text/html": "<div>\n<style scoped>\n    .dataframe tbody tr th:only-of-type {\n        vertical-align: middle;\n    }\n\n    .dataframe tbody tr th {\n        vertical-align: top;\n    }\n\n    .dataframe thead th {\n        text-align: right;\n    }\n</style>\n<table border=\"1\" class=\"dataframe\">\n  <thead>\n    <tr style=\"text-align: right;\">\n      <th></th>\n      <th>0</th>\n    </tr>\n  </thead>\n  <tbody>\n    <tr>\n      <th>0</th>\n      <td>0.69</td>\n    </tr>\n    <tr>\n      <th>1</th>\n      <td>0.69</td>\n    </tr>\n    <tr>\n      <th>2</th>\n      <td>0.69</td>\n    </tr>\n    <tr>\n      <th>3</th>\n      <td>0.69</td>\n    </tr>\n    <tr>\n      <th>4</th>\n      <td>0.69</td>\n    </tr>\n    <tr>\n      <th>...</th>\n      <td>...</td>\n    </tr>\n    <tr>\n      <th>190</th>\n      <td>0.69</td>\n    </tr>\n    <tr>\n      <th>191</th>\n      <td>0.69</td>\n    </tr>\n    <tr>\n      <th>192</th>\n      <td>0.69</td>\n    </tr>\n    <tr>\n      <th>193</th>\n      <td>0.69</td>\n    </tr>\n    <tr>\n      <th>194</th>\n      <td>0.69</td>\n    </tr>\n  </tbody>\n</table>\n<p>195 rows × 1 columns</p>\n</div>"
     },
     "execution_count": 10,
     "metadata": {},
     "output_type": "execute_result"
    }
   ],
   "source": [
    "fee = fee[:195]\n",
    "fee"
   ],
   "metadata": {
    "collapsed": false,
    "pycharm": {
     "name": "#%%\n"
    }
   }
  },
  {
   "cell_type": "code",
   "execution_count": 43,
   "outputs": [
    {
     "name": "stderr",
     "output_type": "stream",
     "text": [
      "C:\\Users\\11249\\AppData\\Local\\Temp\\ipykernel_22500\\1649542379.py:3: FutureWarning: Calling a ufunc on non-aligned DataFrames (or DataFrame/Series combination). Currently, the indices are ignored and the result takes the index/columns of the first DataFrame. In the future , the DataFrames/Series will be aligned before applying the ufunc.\n",
      "Convert one of the arguments to a NumPy array (eg 'ufunc(df1, np.asarray(df2)') to keep the current behaviour, or align manually (eg 'df1, df2 = df1.align(df2)') before passing to the ufunc to obtain the future behaviour and silence this warning.\n",
      "  revenue.append([(1 + 1.5* np.sum(rmk.iloc[i,:]) + charge_label[i] * np.matmul(rmk.iloc[i,:],fee/4)).values[0],charge_label[i]])\n"
     ]
    }
   ],
   "source": [
    "revenue = []\n",
    "for i in range(2120):\n",
    "    revenue.append([(1 + 1.5* np.sum(rmk.iloc[i,:]) + charge_label[i] * np.matmul(rmk.iloc[i,:],fee/4)).values[0],charge_label[i]])"
   ],
   "metadata": {
    "collapsed": false,
    "pycharm": {
     "name": "#%%\n"
    }
   }
  },
  {
   "cell_type": "code",
   "execution_count": 44,
   "outputs": [
    {
     "data": {
      "text/plain": "[[286.0, 0],\n [163.0, 0],\n [6.0175, 1],\n [6.0175, 1],\n [49.0, 0],\n [92.5, 0],\n [122.5, 0],\n [6.0175, 1],\n [7.6899999999999995, 1],\n [6.0175, 1],\n [116.5, 0],\n [151.0, 0],\n [2.5, 0],\n [94.0, 0],\n [281.5, 0],\n [6.0175, 1],\n [6.0175, 1],\n [7.6899999999999995, 1],\n [2.5, 0],\n [6.0175, 1],\n [200.5, 0],\n [154.0, 0],\n [71.5, 0],\n [16.0, 0],\n [55.0, 0],\n [62.5, 0],\n [239.5, 0],\n [7.6899999999999995, 1],\n [76.0, 0],\n [5.5, 0],\n [77.5, 0],\n [6.0175, 1],\n [272.5, 0],\n [7.6899999999999995, 1],\n [2.5, 0],\n [7.6899999999999995, 1],\n [6.0175, 1],\n [6.0175, 1],\n [205.0, 0],\n [17.5, 0],\n [203.5, 0],\n [6.0175, 1],\n [6.0175, 1],\n [6.0175, 1],\n [184.0, 0],\n [14.5, 0],\n [6.0175, 1],\n [142.0, 0],\n [191.5, 0],\n [185.5, 0],\n [16.0, 0],\n [2.5, 0],\n [2.5, 0],\n [6.0175, 1],\n [7.6899999999999995, 1],\n [7.6899999999999995, 1],\n [6.0175, 1],\n [5.5, 0],\n [7.6899999999999995, 1],\n [142.0, 0],\n [6.0175, 1],\n [88.0, 0],\n [10.0, 0],\n [133.0, 0],\n [157.0, 0],\n [238.0, 0],\n [220.0, 0],\n [169.0, 0],\n [7.6899999999999995, 1],\n [148.0, 0],\n [7.6899999999999995, 1],\n [6.0175, 1],\n [6.0175, 1],\n [149.5, 0],\n [82.0, 0],\n [7.6899999999999995, 1],\n [7.0, 0],\n [7.6899999999999995, 1],\n [6.0175, 1],\n [6.0175, 1],\n [4.0, 0],\n [4.0, 0],\n [6.0175, 1],\n [6.0175, 1],\n [6.0175, 1],\n [13.0, 0],\n [206.5, 0],\n [4.0, 0],\n [10.0, 0],\n [182.5, 0],\n [172.0, 0],\n [206.5, 0],\n [82.0, 0],\n [146.5, 0],\n [6.0175, 1],\n [152.5, 0],\n [2.5, 0],\n [154.0, 0],\n [196.0, 0],\n [28.0, 0],\n [61.0, 0],\n [6.0175, 1],\n [6.0175, 1],\n [215.5, 0],\n [29.5, 0],\n [14.5, 0],\n [160.0, 0],\n [152.5, 0],\n [6.0175, 1],\n [194.5, 0],\n [46.0, 0],\n [59.5, 0],\n [194.5, 0],\n [41.5, 0],\n [10.0, 0],\n [226.0, 0],\n [6.0175, 1],\n [148.0, 0],\n [52.0, 0],\n [161.5, 0],\n [187.0, 0],\n [6.0175, 1],\n [98.5, 0],\n [176.5, 0],\n [190.0, 0],\n [199.0, 0],\n [4.0, 0],\n [208.0, 0],\n [50.5, 0],\n [76.0, 0],\n [176.5, 0],\n [56.5, 0],\n [35.5, 0],\n [211.0, 0],\n [4.0, 0],\n [190.0, 0],\n [74.5, 0],\n [218.5, 0],\n [43.0, 0],\n [166.0, 0],\n [28.0, 0],\n [202.0, 0],\n [26.5, 0],\n [194.5, 0],\n [53.5, 0],\n [208.0, 0],\n [6.0175, 1],\n [169.0, 0],\n [208.0, 0],\n [145.0, 0],\n [236.5, 0],\n [4.0, 0],\n [49.0, 0],\n [67.0, 0],\n [127.0, 0],\n [6.0175, 1],\n [191.5, 0],\n [203.5, 0],\n [53.5, 0],\n [79.0, 0],\n [58.0, 0],\n [32.5, 0],\n [59.5, 0],\n [145.0, 0],\n [182.5, 0],\n [17.5, 0],\n [7.6899999999999995, 1],\n [20.5, 0],\n [146.5, 0],\n [4.0, 0],\n [46.0, 0],\n [146.5, 0],\n [89.5, 0],\n [188.5, 0],\n [58.0, 0],\n [211.0, 0],\n [65.5, 0],\n [65.5, 0],\n [200.5, 0],\n [220.0, 0],\n [2.5, 0],\n [59.5, 0],\n [83.5, 0],\n [50.5, 0],\n [203.5, 0],\n [23.5, 0],\n [209.5, 0],\n [19.0, 0],\n [10.0, 0],\n [16.0, 0],\n [2.5, 0],\n [64.0, 0],\n [76.0, 0],\n [217.0, 0],\n [128.5, 0],\n [58.0, 0],\n [205.0, 0],\n [61.0, 0],\n [148.0, 0],\n [70.0, 0],\n [4.0, 0],\n [47.5, 0],\n [64.0, 0],\n [202.0, 0],\n [191.5, 0],\n [67.0, 0],\n [205.0, 0],\n [160.0, 0],\n [59.5, 0],\n [8.5, 0],\n [58.0, 0],\n [29.5, 0],\n [62.5, 0],\n [200.5, 0],\n [206.5, 0],\n [140.5, 0],\n [190.0, 0],\n [85.0, 0],\n [205.0, 0],\n [7.865, 1],\n [62.5, 0],\n [134.5, 0],\n [53.5, 0],\n [56.5, 0],\n [205.0, 0],\n [220.0, 0],\n [61.0, 0],\n [230.5, 0],\n [76.0, 0],\n [76.0, 0],\n [58.0, 0],\n [47.5, 0],\n [145.0, 0],\n [197.5, 0],\n [200.5, 0],\n [62.5, 0],\n [73.0, 0],\n [59.5, 0],\n [64.0, 0],\n [215.5, 0],\n [157.0, 0],\n [64.0, 0],\n [143.5, 0],\n [6.1925, 1],\n [5.5, 0],\n [202.0, 0],\n [62.5, 0],\n [146.5, 0],\n [181.0, 0],\n [22.0, 0],\n [179.5, 0],\n [157.0, 0],\n [10.0, 0],\n [224.5, 0],\n [61.0, 0],\n [155.5, 0],\n [160.0, 0],\n [193.0, 0],\n [152.5, 0],\n [187.0, 0],\n [203.5, 0],\n [194.5, 0],\n [161.5, 0],\n [8.5, 0],\n [62.5, 0],\n [218.5, 0],\n [2.5, 0],\n [64.0, 0],\n [224.5, 0],\n [44.5, 0],\n [205.0, 0],\n [151.0, 0],\n [58.0, 0],\n [7.0, 0],\n [35.5, 0],\n [203.5, 0],\n [202.0, 0],\n [28.0, 0],\n [73.0, 0],\n [169.0, 0],\n [176.5, 0],\n [8.5, 0],\n [59.5, 0],\n [67.0, 0],\n [221.5, 0],\n [65.5, 0],\n [25.0, 0],\n [35.5, 0],\n [203.5, 0],\n [52.0, 0],\n [206.5, 0],\n [58.0, 0],\n [205.0, 0],\n [61.0, 0],\n [41.5, 0],\n [203.5, 0],\n [52.0, 0],\n [226.0, 0],\n [197.5, 0],\n [5.5, 0],\n [205.0, 0],\n [205.0, 0],\n [205.0, 0],\n [154.0, 0],\n [212.5, 0],\n [185.5, 0],\n [160.0, 0],\n [55.0, 0],\n [181.0, 0],\n [200.5, 0],\n [176.5, 0],\n [46.0, 0],\n [70.0, 0],\n [49.0, 0],\n [10.0, 0],\n [40.0, 0],\n [202.0, 0],\n [196.0, 0],\n [68.5, 0],\n [56.5, 0],\n [167.5, 0],\n [13.0, 0],\n [62.5, 0],\n [220.0, 0],\n [58.0, 0],\n [6.3675, 1],\n [16.0, 0],\n [214.0, 0],\n [202.0, 0],\n [200.5, 0],\n [173.5, 0],\n [56.5, 0],\n [44.5, 0],\n [8.215, 1],\n [226.0, 0],\n [211.0, 0],\n [179.5, 0],\n [61.0, 0],\n [4.0, 0],\n [55.0, 0],\n [61.0, 0],\n [203.5, 0],\n [232.0, 0],\n [203.5, 0],\n [65.5, 0],\n [79.0, 0],\n [59.5, 0],\n [206.5, 0],\n [64.0, 0],\n [58.0, 0],\n [7.0, 0],\n [145.0, 0],\n [62.5, 0],\n [151.0, 0],\n [208.0, 0],\n [202.0, 0],\n [5.5, 0],\n [155.5, 0],\n [223.0, 0],\n [163.0, 0],\n [25.0, 0],\n [89.5, 0],\n [200.5, 0],\n [214.0, 0],\n [7.0, 0],\n [160.0, 0],\n [41.5, 0],\n [49.0, 0],\n [182.5, 0],\n [179.5, 0],\n [151.0, 0],\n [205.0, 0],\n [5.5, 0],\n [7.0, 0],\n [67.0, 0],\n [52.0, 0],\n [196.0, 0],\n [61.0, 0],\n [53.5, 0],\n [146.5, 0],\n [197.5, 0],\n [203.5, 0],\n [202.0, 0],\n [206.5, 0],\n [148.0, 0],\n [193.0, 0],\n [40.0, 0],\n [52.0, 0],\n [50.5, 0],\n [55.0, 0],\n [14.5, 0],\n [85.0, 0],\n [6.5425, 1],\n [19.0, 0],\n [52.0, 0],\n [158.5, 0],\n [22.0, 0],\n [13.0, 0],\n [208.0, 0],\n [37.0, 0],\n [193.0, 0],\n [46.0, 0],\n [35.5, 0],\n [5.5, 0],\n [58.0, 0],\n [2.5, 0],\n [160.0, 0],\n [193.0, 0],\n [64.0, 0],\n [215.5, 0],\n [212.5, 0],\n [13.0, 0],\n [8.59, 1],\n [77.5, 0],\n [167.5, 0],\n [10.0, 0],\n [56.5, 0],\n [199.0, 0],\n [56.5, 0],\n [53.5, 0],\n [179.5, 0],\n [149.5, 0],\n [53.5, 0],\n [73.0, 0],\n [16.0, 0],\n [52.0, 0],\n [202.0, 0],\n [79.0, 0],\n [58.0, 0],\n [215.5, 0],\n [6.5425, 1],\n [58.0, 0],\n [191.5, 0],\n [205.0, 0],\n [166.0, 0],\n [28.0, 0],\n [161.5, 0],\n [202.0, 0],\n [61.0, 0],\n [20.5, 0],\n [35.5, 0],\n [139.0, 0],\n [199.0, 0],\n [200.5, 0],\n [142.0, 0],\n [55.0, 0],\n [77.5, 0],\n [199.0, 0],\n [191.5, 0],\n [2.5, 0],\n [28.0, 0],\n [200.5, 0],\n [64.0, 0],\n [19.0, 0],\n [83.5, 0],\n [31.0, 0],\n [58.0, 0],\n [146.5, 0],\n [146.5, 0],\n [74.5, 0],\n [20.5, 0],\n [172.0, 0],\n [74.5, 0],\n [70.0, 0],\n [79.0, 0],\n [164.5, 0],\n [194.5, 0],\n [163.0, 0],\n [8.5, 0],\n [4.0, 0],\n [41.5, 0],\n [179.5, 0],\n [181.0, 0],\n [20.5, 0],\n [79.0, 0],\n [70.0, 0],\n [47.5, 0],\n [5.5, 0],\n [176.5, 0],\n [76.0, 0],\n [58.0, 0],\n [4.0, 0],\n [184.0, 0],\n [56.5, 0],\n [31.0, 0],\n [83.5, 0],\n [215.5, 0],\n [65.5, 0],\n [203.5, 0],\n [31.0, 0],\n [61.0, 0],\n [23.5, 0],\n [196.0, 0],\n [169.0, 0],\n [28.0, 0],\n [182.5, 0],\n [2.5, 0],\n [43.0, 0],\n [61.0, 0],\n [188.5, 0],\n [17.5, 0],\n [4.0, 0],\n [32.5, 0],\n [214.0, 0],\n [76.0, 0],\n [200.5, 0],\n [34.0, 0],\n [202.0, 0],\n [151.0, 0],\n [160.0, 0],\n [197.5, 0],\n [145.0, 0],\n [55.0, 0],\n [49.0, 0],\n [190.0, 0],\n [50.5, 0],\n [182.5, 0],\n [41.5, 0],\n [202.0, 0],\n [14.5, 0],\n [10.0, 0],\n [167.5, 0],\n [193.0, 0],\n [193.0, 0],\n [215.5, 0],\n [29.5, 0],\n [149.5, 0],\n [58.0, 0],\n [50.5, 0],\n [161.5, 0],\n [50.5, 0],\n [178.0, 0],\n [146.5, 0],\n [2.5, 0],\n [13.0, 0],\n [200.5, 0],\n [212.5, 0],\n [4.0, 0],\n [58.0, 0],\n [137.5, 0],\n [2.5, 0],\n [46.0, 0],\n [43.0, 0],\n [70.0, 0],\n [40.0, 0],\n [202.0, 0],\n [209.5, 0],\n [62.5, 0],\n [184.0, 0],\n [155.5, 0],\n [2.5, 0],\n [148.0, 0],\n [232.0, 0],\n [4.0, 0],\n [58.0, 0],\n [196.0, 0],\n [194.5, 0],\n [2.5, 0],\n [56.5, 0],\n [206.5, 0],\n [20.5, 0],\n [5.5, 0],\n [146.5, 0],\n [53.5, 0],\n [8.54, 1],\n [208.0, 0],\n [218.5, 0],\n [179.5, 0],\n [10.0, 0],\n [175.0, 0],\n [209.5, 0],\n [58.0, 0],\n [178.0, 0],\n [4.0, 0],\n [193.0, 0],\n [49.0, 0],\n [17.5, 0],\n [199.0, 0],\n [200.5, 0],\n [10.0, 0],\n [215.5, 0],\n [157.0, 0],\n [145.0, 0],\n [71.5, 0],\n [4.0, 0],\n [2.5, 0],\n [53.5, 0],\n [53.5, 0],\n [76.0, 0],\n [190.0, 0],\n [49.0, 0],\n [6.6925, 1],\n [2.5, 0],\n [55.0, 0],\n [7.0, 0],\n [160.0, 0],\n [187.0, 0],\n [182.5, 0],\n [76.0, 0],\n [67.0, 0],\n [64.0, 0],\n [184.0, 0],\n [172.0, 0],\n [14.5, 0],\n [23.5, 0],\n [208.0, 0],\n [151.0, 0],\n [164.5, 0],\n [13.0, 0],\n [34.0, 0],\n [157.0, 0],\n [23.5, 0],\n [5.5, 0],\n [52.0, 0],\n [5.5, 0],\n [7.0, 0],\n [158.5, 0],\n [223.0, 0],\n [34.0, 0],\n [16.0, 0],\n [7.0, 0],\n [52.0, 0],\n [173.5, 0],\n [154.0, 0],\n [58.0, 0],\n [28.0, 0],\n [52.0, 0],\n [32.5, 0],\n [166.0, 0],\n [181.0, 0],\n [19.0, 0],\n [49.0, 0],\n [181.0, 0],\n [41.5, 0],\n [215.5, 0],\n [199.0, 0],\n [8.5, 0],\n [17.5, 0],\n [50.5, 0],\n [187.0, 0],\n [5.5, 0],\n [14.5, 0],\n [149.5, 0],\n [4.0, 0],\n [86.5, 0],\n [59.5, 0],\n [11.5, 0],\n [2.5, 0],\n [19.0, 0],\n [28.0, 0],\n [202.0, 0],\n [8.5, 0],\n [34.0, 0],\n [158.5, 0],\n [23.5, 0],\n [76.0, 0],\n [148.0, 0],\n [4.0, 0],\n [28.0, 0],\n [19.0, 0],\n [7.0, 0],\n [49.0, 0],\n [37.0, 0],\n [41.5, 0],\n [20.5, 0],\n [148.0, 0],\n [22.0, 0],\n [22.0, 0],\n [4.0, 0],\n [16.0, 0],\n [173.5, 0],\n [44.5, 0],\n [200.5, 0],\n [170.5, 0],\n [172.0, 0],\n [95.5, 0],\n [13.0, 0],\n [34.0, 0],\n [37.0, 0],\n [214.0, 0],\n [40.0, 0],\n [11.5, 0],\n [71.5, 0],\n [67.0, 0],\n [13.0, 0],\n [49.0, 0],\n [10.0, 0],\n [211.0, 0],\n [146.5, 0],\n [2.5, 0],\n [44.5, 0],\n [50.5, 0],\n [167.5, 0],\n [31.0, 0],\n [70.0, 0],\n [28.0, 0],\n [146.5, 0],\n [26.5, 0],\n [185.5, 0],\n [4.0, 0],\n [52.0, 0],\n [5.5, 0],\n [16.0, 0],\n [200.5, 0],\n [163.0, 0],\n [11.5, 0],\n [5.5, 0],\n [157.0, 0],\n [146.5, 0],\n [218.5, 0],\n [4.0, 0],\n [188.5, 0],\n [7.0, 0],\n [62.5, 0],\n [205.0, 0],\n [152.5, 0],\n [146.5, 0],\n [64.0, 0],\n [211.0, 0],\n [148.0, 0],\n [37.0, 0],\n [29.5, 0],\n [49.0, 0],\n [149.5, 0],\n [43.0, 0],\n [7.0, 0],\n [52.0, 0],\n [154.0, 0],\n [52.0, 0],\n [28.0, 0],\n [178.0, 0],\n [173.5, 0],\n [6.6925, 1],\n [40.0, 0],\n [14.5, 0],\n [190.0, 0],\n [44.5, 0],\n [172.0, 0],\n [175.0, 0],\n [182.5, 0],\n [155.5, 0],\n [4.0, 0],\n [4.0, 0],\n [46.0, 0],\n [188.5, 0],\n [32.5, 0],\n [146.5, 0],\n [47.5, 0],\n [4.0, 0],\n [155.5, 0],\n [46.0, 0],\n [145.0, 0],\n [197.5, 0],\n [151.0, 0],\n [215.5, 0],\n [166.0, 0],\n [55.0, 0],\n [149.5, 0],\n [2.5, 0],\n [14.5, 0],\n [154.0, 0],\n [86.5, 0],\n [26.5, 0],\n [181.0, 0],\n [2.5, 0],\n [152.5, 0],\n [167.5, 0],\n [56.5, 0],\n [176.5, 0],\n [11.5, 0],\n [185.5, 0],\n [14.5, 0],\n [191.5, 0],\n [176.5, 0],\n [98.5, 0],\n [146.5, 0],\n [34.0, 0],\n [157.0, 0],\n [143.5, 0],\n [181.0, 0],\n [10.0, 0],\n [38.5, 0],\n [175.0, 0],\n [19.0, 0],\n [11.5, 0],\n [10.0, 0],\n [149.5, 0],\n [31.0, 0],\n [64.0, 0],\n [161.5, 0],\n [131.5, 0],\n [199.0, 0],\n [62.5, 0],\n [211.0, 0],\n [16.0, 0],\n [149.5, 0],\n [13.0, 0],\n [23.5, 0],\n [152.5, 0],\n [11.5, 0],\n [22.0, 0],\n [16.0, 0],\n [5.5, 0],\n [2.5, 0],\n [4.0, 0],\n [199.0, 0],\n [8.5, 0],\n [190.0, 0],\n [190.0, 0],\n [40.0, 0],\n [43.0, 0],\n [196.0, 0],\n [43.0, 0],\n [220.0, 0],\n [202.0, 0],\n [8.5, 0],\n [146.5, 0],\n [187.0, 0],\n [139.0, 0],\n [16.0, 0],\n [13.0, 0],\n [140.5, 0],\n [137.5, 0],\n [8.5, 0],\n [11.5, 0],\n [67.0, 0],\n [184.0, 0],\n [188.5, 0],\n [181.0, 0],\n [13.0, 0],\n [2.5, 0],\n [203.5, 0],\n [6.6925, 1],\n [50.5, 0],\n [5.5, 0],\n [149.5, 0],\n [31.0, 0],\n [184.0, 0],\n [25.0, 0],\n [43.0, 0],\n [161.5, 0],\n [6.4675, 1],\n [188.5, 0],\n [13.0, 0],\n [52.0, 0],\n [194.5, 0],\n [155.5, 0],\n [4.0, 0],\n [175.0, 0],\n [164.5, 0],\n [203.5, 0],\n [154.0, 0],\n [5.5, 0],\n [6.4675, 1],\n [5.5, 0],\n [143.5, 0],\n [164.5, 0],\n [70.0, 0],\n [200.5, 0],\n [4.0, 0],\n [4.0, 0],\n [20.5, 0],\n [25.0, 0],\n [6.0175, 1],\n [166.0, 0],\n [5.5, 0],\n [62.5, 0],\n [2.5, 0],\n [4.0, 0],\n [2.5, 0],\n [160.0, 0],\n [206.5, 0],\n [44.5, 0],\n [148.0, 0],\n [38.5, 0],\n [187.0, 0],\n [11.5, 0],\n [154.0, 0],\n [5.5, 0],\n [146.5, 0],\n [44.5, 0],\n [187.0, 0],\n [4.0, 0],\n [155.5, 0],\n [184.0, 0],\n [20.5, 0],\n [40.0, 0],\n [52.0, 0],\n [62.5, 0],\n [152.5, 0],\n [4.0, 0],\n [158.5, 0],\n [7.0, 0],\n [61.0, 0],\n [7.0, 0],\n [14.5, 0],\n [173.5, 0],\n [62.5, 0],\n [160.0, 0],\n [11.5, 0],\n [179.5, 0],\n [188.5, 0],\n [139.0, 0],\n [16.0, 0],\n [188.5, 0],\n [193.0, 0],\n [16.0, 0],\n [58.0, 0],\n [188.5, 0],\n [73.0, 0],\n [133.0, 0],\n [20.5, 0],\n [7.0, 0],\n [143.5, 0],\n [10.0, 0],\n [145.0, 0],\n [194.5, 0],\n [16.0, 0],\n [32.5, 0],\n [178.0, 0],\n [6.0175, 1],\n [5.5, 0],\n [10.0, 0],\n [4.0, 0],\n [4.0, 0],\n [152.5, 0],\n [139.0, 0],\n [16.0, 0],\n [20.5, 0],\n [67.0, 0],\n [154.0, 0],\n [197.5, 0],\n [163.0, 0],\n [16.0, 0],\n [4.0, 0],\n [80.5, 0],\n [10.0, 0],\n [4.0, 0],\n [188.5, 0],\n [43.0, 0],\n [181.0, 0],\n [182.5, 0],\n [4.0, 0],\n [187.0, 0],\n [185.5, 0],\n [5.5, 0],\n [148.0, 0],\n [154.0, 0],\n [128.5, 0],\n [158.5, 0],\n [79.0, 0],\n [166.0, 0],\n [197.5, 0],\n [5.5, 0],\n [26.5, 0],\n [28.0, 0],\n [44.5, 0],\n [212.5, 0],\n [34.0, 0],\n [31.0, 0],\n [7.0, 0],\n [6.0175, 1],\n [22.0, 0],\n [154.0, 0],\n [188.5, 0],\n [8.5, 0],\n [10.0, 0],\n [8.5, 0],\n [7.6899999999999995, 1],\n [154.0, 0],\n [10.0, 0],\n [26.5, 0],\n [6.0175, 1],\n [22.0, 0],\n [8.5, 0],\n [118.0, 0],\n [7.6899999999999995, 1],\n [7.6899999999999995, 1],\n [11.5, 0],\n [5.5, 0],\n [28.0, 0],\n [20.5, 0],\n [2.5, 0],\n [32.5, 0],\n [154.0, 0],\n [4.0, 0],\n [6.0175, 1],\n [10.0, 0],\n [176.5, 0],\n [6.0175, 1],\n [161.5, 0],\n [7.0, 0],\n [157.0, 0],\n [7.0, 0],\n [49.0, 0],\n [161.5, 0],\n [181.0, 0],\n [56.5, 0],\n [190.0, 0],\n [28.0, 0],\n ...]"
     },
     "execution_count": 44,
     "metadata": {},
     "output_type": "execute_result"
    }
   ],
   "source": [
    "revenue"
   ],
   "metadata": {
    "collapsed": false,
    "pycharm": {
     "name": "#%%\n"
    }
   }
  },
  {
   "cell_type": "code",
   "execution_count": 41,
   "outputs": [
    {
     "data": {
      "text/plain": "      Unnamed: 0                req_t             depart_t  travel_t  \\\n0              0  2022-02-16 22:53:44  2022-02-16 23:08:44        66   \n1              1  2022-02-16 23:04:38  2022-02-16 23:19:38       104   \n2              2  2022-02-16 23:22:00  2022-02-16 23:37:00        52   \n3              3  2022-02-16 23:24:00  2022-02-16 23:39:00        52   \n4              4  2022-02-16 23:29:11  2022-02-16 23:44:11        17   \n...          ...                  ...                  ...       ...   \n2115        2115  2022-02-17 23:07:35  2022-02-17 23:22:35        14   \n2116        2116  2022-02-17 23:10:34  2022-02-17 23:25:34        25   \n2117        2117  2022-02-17 23:13:56  2022-02-17 23:28:56        26   \n2118        2118  2022-02-17 23:15:00  2022-02-17 23:30:00        18   \n2119        2119  2022-02-17 23:28:47  2022-02-17 23:43:47         4   \n\n                    arr_t    parking_t                lea_t  charge_label  \\\n0     2022-02-17 00:14:44  1398.333333  2022-02-18 23:33:04             0   \n1     2022-02-17 01:03:38   169.733333  2022-02-18 03:53:22             0   \n2     2022-02-17 00:29:00          NaN  2022-02-17 01:00:00             1   \n3     2022-02-17 00:31:00          NaN  2022-02-17 01:07:00             1   \n4     2022-02-17 00:01:11   470.700000  2022-02-17 07:51:53             0   \n...                   ...          ...                  ...           ...   \n2115  2022-02-17 23:36:35   605.766667  2022-02-18 09:42:21             0   \n2116  2022-02-17 23:50:34     3.066667  2022-02-17 23:53:38             0   \n2117  2022-02-17 23:54:56  1215.216667  2022-02-18 20:10:09             0   \n2118  2022-02-17 23:48:00          NaN  2022-02-18 00:22:00             1   \n2119  2022-02-17 23:47:47   802.883333  2022-02-18 13:10:40             0   \n\n      char_t  req_interval  depart_interval  lea_interval  arr_interval  dest  \\\n0        NaN             0                1           194             5     2   \n1        NaN             0                1           115             8     2   \n2       31.0             1                2             8             6     3   \n3       36.0             2                3             8             6     3   \n4        NaN             2                3            35             4     2   \n...      ...           ...              ...           ...           ...   ...   \n2115     NaN            96               97           139            98     3   \n2116     NaN            97               98            99            99     1   \n2117     NaN            97               98           181           100     2   \n2118    34.0            97               98           101            99     2   \n2119     NaN            98               99           153            99     3   \n\n      waiting_time  time_label  \n0        15.000000         3.0  \n1         4.100000         1.0  \n2         1.733333         NaN  \n3        14.733333         NaN  \n4         9.550000         2.0  \n...            ...         ...  \n2115      1.150000         3.0  \n2116     13.166667         0.0  \n2117      9.800000         3.0  \n2118      8.733333         NaN  \n2119      9.950000         3.0  \n\n[2120 rows x 16 columns]",
      "text/html": "<div>\n<style scoped>\n    .dataframe tbody tr th:only-of-type {\n        vertical-align: middle;\n    }\n\n    .dataframe tbody tr th {\n        vertical-align: top;\n    }\n\n    .dataframe thead th {\n        text-align: right;\n    }\n</style>\n<table border=\"1\" class=\"dataframe\">\n  <thead>\n    <tr style=\"text-align: right;\">\n      <th></th>\n      <th>Unnamed: 0</th>\n      <th>req_t</th>\n      <th>depart_t</th>\n      <th>travel_t</th>\n      <th>arr_t</th>\n      <th>parking_t</th>\n      <th>lea_t</th>\n      <th>charge_label</th>\n      <th>char_t</th>\n      <th>req_interval</th>\n      <th>depart_interval</th>\n      <th>lea_interval</th>\n      <th>arr_interval</th>\n      <th>dest</th>\n      <th>waiting_time</th>\n      <th>time_label</th>\n    </tr>\n  </thead>\n  <tbody>\n    <tr>\n      <th>0</th>\n      <td>0</td>\n      <td>2022-02-16 22:53:44</td>\n      <td>2022-02-16 23:08:44</td>\n      <td>66</td>\n      <td>2022-02-17 00:14:44</td>\n      <td>1398.333333</td>\n      <td>2022-02-18 23:33:04</td>\n      <td>0</td>\n      <td>NaN</td>\n      <td>0</td>\n      <td>1</td>\n      <td>194</td>\n      <td>5</td>\n      <td>2</td>\n      <td>15.000000</td>\n      <td>3.0</td>\n    </tr>\n    <tr>\n      <th>1</th>\n      <td>1</td>\n      <td>2022-02-16 23:04:38</td>\n      <td>2022-02-16 23:19:38</td>\n      <td>104</td>\n      <td>2022-02-17 01:03:38</td>\n      <td>169.733333</td>\n      <td>2022-02-18 03:53:22</td>\n      <td>0</td>\n      <td>NaN</td>\n      <td>0</td>\n      <td>1</td>\n      <td>115</td>\n      <td>8</td>\n      <td>2</td>\n      <td>4.100000</td>\n      <td>1.0</td>\n    </tr>\n    <tr>\n      <th>2</th>\n      <td>2</td>\n      <td>2022-02-16 23:22:00</td>\n      <td>2022-02-16 23:37:00</td>\n      <td>52</td>\n      <td>2022-02-17 00:29:00</td>\n      <td>NaN</td>\n      <td>2022-02-17 01:00:00</td>\n      <td>1</td>\n      <td>31.0</td>\n      <td>1</td>\n      <td>2</td>\n      <td>8</td>\n      <td>6</td>\n      <td>3</td>\n      <td>1.733333</td>\n      <td>NaN</td>\n    </tr>\n    <tr>\n      <th>3</th>\n      <td>3</td>\n      <td>2022-02-16 23:24:00</td>\n      <td>2022-02-16 23:39:00</td>\n      <td>52</td>\n      <td>2022-02-17 00:31:00</td>\n      <td>NaN</td>\n      <td>2022-02-17 01:07:00</td>\n      <td>1</td>\n      <td>36.0</td>\n      <td>2</td>\n      <td>3</td>\n      <td>8</td>\n      <td>6</td>\n      <td>3</td>\n      <td>14.733333</td>\n      <td>NaN</td>\n    </tr>\n    <tr>\n      <th>4</th>\n      <td>4</td>\n      <td>2022-02-16 23:29:11</td>\n      <td>2022-02-16 23:44:11</td>\n      <td>17</td>\n      <td>2022-02-17 00:01:11</td>\n      <td>470.700000</td>\n      <td>2022-02-17 07:51:53</td>\n      <td>0</td>\n      <td>NaN</td>\n      <td>2</td>\n      <td>3</td>\n      <td>35</td>\n      <td>4</td>\n      <td>2</td>\n      <td>9.550000</td>\n      <td>2.0</td>\n    </tr>\n    <tr>\n      <th>...</th>\n      <td>...</td>\n      <td>...</td>\n      <td>...</td>\n      <td>...</td>\n      <td>...</td>\n      <td>...</td>\n      <td>...</td>\n      <td>...</td>\n      <td>...</td>\n      <td>...</td>\n      <td>...</td>\n      <td>...</td>\n      <td>...</td>\n      <td>...</td>\n      <td>...</td>\n      <td>...</td>\n    </tr>\n    <tr>\n      <th>2115</th>\n      <td>2115</td>\n      <td>2022-02-17 23:07:35</td>\n      <td>2022-02-17 23:22:35</td>\n      <td>14</td>\n      <td>2022-02-17 23:36:35</td>\n      <td>605.766667</td>\n      <td>2022-02-18 09:42:21</td>\n      <td>0</td>\n      <td>NaN</td>\n      <td>96</td>\n      <td>97</td>\n      <td>139</td>\n      <td>98</td>\n      <td>3</td>\n      <td>1.150000</td>\n      <td>3.0</td>\n    </tr>\n    <tr>\n      <th>2116</th>\n      <td>2116</td>\n      <td>2022-02-17 23:10:34</td>\n      <td>2022-02-17 23:25:34</td>\n      <td>25</td>\n      <td>2022-02-17 23:50:34</td>\n      <td>3.066667</td>\n      <td>2022-02-17 23:53:38</td>\n      <td>0</td>\n      <td>NaN</td>\n      <td>97</td>\n      <td>98</td>\n      <td>99</td>\n      <td>99</td>\n      <td>1</td>\n      <td>13.166667</td>\n      <td>0.0</td>\n    </tr>\n    <tr>\n      <th>2117</th>\n      <td>2117</td>\n      <td>2022-02-17 23:13:56</td>\n      <td>2022-02-17 23:28:56</td>\n      <td>26</td>\n      <td>2022-02-17 23:54:56</td>\n      <td>1215.216667</td>\n      <td>2022-02-18 20:10:09</td>\n      <td>0</td>\n      <td>NaN</td>\n      <td>97</td>\n      <td>98</td>\n      <td>181</td>\n      <td>100</td>\n      <td>2</td>\n      <td>9.800000</td>\n      <td>3.0</td>\n    </tr>\n    <tr>\n      <th>2118</th>\n      <td>2118</td>\n      <td>2022-02-17 23:15:00</td>\n      <td>2022-02-17 23:30:00</td>\n      <td>18</td>\n      <td>2022-02-17 23:48:00</td>\n      <td>NaN</td>\n      <td>2022-02-18 00:22:00</td>\n      <td>1</td>\n      <td>34.0</td>\n      <td>97</td>\n      <td>98</td>\n      <td>101</td>\n      <td>99</td>\n      <td>2</td>\n      <td>8.733333</td>\n      <td>NaN</td>\n    </tr>\n    <tr>\n      <th>2119</th>\n      <td>2119</td>\n      <td>2022-02-17 23:28:47</td>\n      <td>2022-02-17 23:43:47</td>\n      <td>4</td>\n      <td>2022-02-17 23:47:47</td>\n      <td>802.883333</td>\n      <td>2022-02-18 13:10:40</td>\n      <td>0</td>\n      <td>NaN</td>\n      <td>98</td>\n      <td>99</td>\n      <td>153</td>\n      <td>99</td>\n      <td>3</td>\n      <td>9.950000</td>\n      <td>3.0</td>\n    </tr>\n  </tbody>\n</table>\n<p>2120 rows × 16 columns</p>\n</div>"
     },
     "execution_count": 41,
     "metadata": {},
     "output_type": "execute_result"
    }
   ],
   "source": [
    "req_info"
   ],
   "metadata": {
    "collapsed": false,
    "pycharm": {
     "name": "#%%\n"
    }
   }
  },
  {
   "cell_type": "code",
   "execution_count": 46,
   "outputs": [
    {
     "data": {
      "text/plain": "2"
     },
     "execution_count": 46,
     "metadata": {},
     "output_type": "execute_result"
    }
   ],
   "source": [
    "req_info['dest'][0]"
   ],
   "metadata": {
    "collapsed": false,
    "pycharm": {
     "name": "#%%\n"
    }
   }
  },
  {
   "cell_type": "code",
   "execution_count": null,
   "outputs": [],
   "source": [],
   "metadata": {
    "collapsed": false,
    "pycharm": {
     "name": "#%%\n"
    }
   }
  }
 ],
 "metadata": {
  "kernelspec": {
   "display_name": "deep-reinforcement-learning",
   "language": "python",
   "name": "deep-reinforcement-learning"
  },
  "language_info": {
   "codemirror_mode": {
    "name": "ipython",
    "version": 2
   },
   "file_extension": ".py",
   "mimetype": "text/x-python",
   "name": "python",
   "nbconvert_exporter": "python",
   "pygments_lexer": "ipython2",
   "version": "2.7.6"
  }
 },
 "nbformat": 4,
 "nbformat_minor": 0
}